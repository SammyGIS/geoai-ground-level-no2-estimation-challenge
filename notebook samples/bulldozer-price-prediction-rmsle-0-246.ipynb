{
 "cells": [
  {
   "cell_type": "markdown",
   "id": "0d98f8b2",
   "metadata": {
    "id": "BPcK0740LuoN",
    "papermill": {
     "duration": 0.03241,
     "end_time": "2024-04-05T09:35:25.841734",
     "exception": false,
     "start_time": "2024-04-05T09:35:25.809324",
     "status": "completed"
    },
    "tags": []
   },
   "source": [
    "## Predicting the sale price of bulldozer using machine learninng.\n",
    "\n",
    "This notebook is part a competition posted on Kaggle.\n",
    "Link : https://www.kaggle.com/competitions/bluebook-for-bulldozers/overview\n",
    "\n",
    "### Data for this notebook:\n",
    "1. TrainAndValid.csv:\n",
    "  - training set, which contains data through the end of 2011.\n",
    "  - validation set, which contains data from January 1, 2012 - April 30, 2012. Our model score on this set will will reflect on leaderboard.\n",
    "2. Test.csv: It contains data from May 1, 2012 - November 2012.\n",
    "\n",
    "### Evaluation Metric:\n",
    "> The evaluation metric for this competition is the **RMSLE (root mean squared log error)** between the actual and predicted auction prices.\n",
    "\n",
    "\n"
   ]
  },
  {
   "cell_type": "markdown",
   "id": "031ca3e9",
   "metadata": {
    "id": "EZp_cc87kFO9",
    "papermill": {
     "duration": 0.031812,
     "end_time": "2024-04-05T09:35:25.907383",
     "exception": false,
     "start_time": "2024-04-05T09:35:25.875571",
     "status": "completed"
    },
    "tags": []
   },
   "source": [
    "## Import Library and Packages"
   ]
  },
  {
   "cell_type": "code",
   "execution_count": 1,
   "id": "e61c4a2f",
   "metadata": {
    "execution": {
     "iopub.execute_input": "2024-04-05T09:35:25.974882Z",
     "iopub.status.busy": "2024-04-05T09:35:25.973983Z",
     "iopub.status.idle": "2024-04-05T09:35:28.218670Z",
     "shell.execute_reply": "2024-04-05T09:35:28.217543Z"
    },
    "id": "sbWzOLcUkJZL",
    "papermill": {
     "duration": 2.28151,
     "end_time": "2024-04-05T09:35:28.221573",
     "exception": false,
     "start_time": "2024-04-05T09:35:25.940063",
     "status": "completed"
    },
    "tags": []
   },
   "outputs": [
    {
     "name": "stderr",
     "output_type": "stream",
     "text": [
      "/tmp/ipykernel_18/2998024819.py:7: MatplotlibDeprecationWarning: The seaborn styles shipped by Matplotlib are deprecated since 3.6, as they no longer correspond to the styles shipped by seaborn. However, they will remain available as 'seaborn-v0_8-<style>'. Alternatively, directly use the seaborn API instead.\n",
      "  plt.style.use('seaborn')\n"
     ]
    }
   ],
   "source": [
    "import numpy as np\n",
    "import pandas as pd\n",
    "import matplotlib.pyplot as plt\n",
    "import seaborn as sns\n",
    "import datetime as dt\n",
    "\n",
    "plt.style.use('seaborn')\n",
    "\n",
    "import warnings\n",
    "warnings.filterwarnings('ignore')"
   ]
  },
  {
   "cell_type": "markdown",
   "id": "27419bc7",
   "metadata": {
    "id": "UV2V6wVqhR9q",
    "papermill": {
     "duration": 0.032166,
     "end_time": "2024-04-05T09:35:28.286221",
     "exception": false,
     "start_time": "2024-04-05T09:35:28.254055",
     "status": "completed"
    },
    "tags": []
   },
   "source": [
    "## Import Data"
   ]
  },
  {
   "cell_type": "code",
   "execution_count": 2,
   "id": "703a42e9",
   "metadata": {
    "execution": {
     "iopub.execute_input": "2024-04-05T09:35:28.352979Z",
     "iopub.status.busy": "2024-04-05T09:35:28.352093Z",
     "iopub.status.idle": "2024-04-05T09:35:34.004368Z",
     "shell.execute_reply": "2024-04-05T09:35:34.003245Z"
    },
    "id": "h2SP28Bxj2zN",
    "outputId": "3ee59f5c-bd49-44a9-8df4-684f33e28224",
    "papermill": {
     "duration": 5.688716,
     "end_time": "2024-04-05T09:35:34.007098",
     "exception": false,
     "start_time": "2024-04-05T09:35:28.318382",
     "status": "completed"
    },
    "tags": []
   },
   "outputs": [
    {
     "data": {
      "text/html": [
       "<div>\n",
       "<style scoped>\n",
       "    .dataframe tbody tr th:only-of-type {\n",
       "        vertical-align: middle;\n",
       "    }\n",
       "\n",
       "    .dataframe tbody tr th {\n",
       "        vertical-align: top;\n",
       "    }\n",
       "\n",
       "    .dataframe thead th {\n",
       "        text-align: right;\n",
       "    }\n",
       "</style>\n",
       "<table border=\"1\" class=\"dataframe\">\n",
       "  <thead>\n",
       "    <tr style=\"text-align: right;\">\n",
       "      <th></th>\n",
       "      <th>SalesID</th>\n",
       "      <th>SalePrice</th>\n",
       "      <th>MachineID</th>\n",
       "      <th>ModelID</th>\n",
       "      <th>datasource</th>\n",
       "      <th>auctioneerID</th>\n",
       "      <th>YearMade</th>\n",
       "      <th>MachineHoursCurrentMeter</th>\n",
       "      <th>UsageBand</th>\n",
       "      <th>saledate</th>\n",
       "      <th>...</th>\n",
       "      <th>Undercarriage_Pad_Width</th>\n",
       "      <th>Stick_Length</th>\n",
       "      <th>Thumb</th>\n",
       "      <th>Pattern_Changer</th>\n",
       "      <th>Grouser_Type</th>\n",
       "      <th>Backhoe_Mounting</th>\n",
       "      <th>Blade_Type</th>\n",
       "      <th>Travel_Controls</th>\n",
       "      <th>Differential_Type</th>\n",
       "      <th>Steering_Controls</th>\n",
       "    </tr>\n",
       "  </thead>\n",
       "  <tbody>\n",
       "    <tr>\n",
       "      <th>0</th>\n",
       "      <td>1139246</td>\n",
       "      <td>66000.0</td>\n",
       "      <td>999089</td>\n",
       "      <td>3157</td>\n",
       "      <td>121</td>\n",
       "      <td>3.0</td>\n",
       "      <td>2004</td>\n",
       "      <td>68.0</td>\n",
       "      <td>Low</td>\n",
       "      <td>11/16/2006 0:00</td>\n",
       "      <td>...</td>\n",
       "      <td>NaN</td>\n",
       "      <td>NaN</td>\n",
       "      <td>NaN</td>\n",
       "      <td>NaN</td>\n",
       "      <td>NaN</td>\n",
       "      <td>NaN</td>\n",
       "      <td>NaN</td>\n",
       "      <td>NaN</td>\n",
       "      <td>Standard</td>\n",
       "      <td>Conventional</td>\n",
       "    </tr>\n",
       "    <tr>\n",
       "      <th>1</th>\n",
       "      <td>1139248</td>\n",
       "      <td>57000.0</td>\n",
       "      <td>117657</td>\n",
       "      <td>77</td>\n",
       "      <td>121</td>\n",
       "      <td>3.0</td>\n",
       "      <td>1996</td>\n",
       "      <td>4640.0</td>\n",
       "      <td>Low</td>\n",
       "      <td>3/26/2004 0:00</td>\n",
       "      <td>...</td>\n",
       "      <td>NaN</td>\n",
       "      <td>NaN</td>\n",
       "      <td>NaN</td>\n",
       "      <td>NaN</td>\n",
       "      <td>NaN</td>\n",
       "      <td>NaN</td>\n",
       "      <td>NaN</td>\n",
       "      <td>NaN</td>\n",
       "      <td>Standard</td>\n",
       "      <td>Conventional</td>\n",
       "    </tr>\n",
       "    <tr>\n",
       "      <th>2</th>\n",
       "      <td>1139249</td>\n",
       "      <td>10000.0</td>\n",
       "      <td>434808</td>\n",
       "      <td>7009</td>\n",
       "      <td>121</td>\n",
       "      <td>3.0</td>\n",
       "      <td>2001</td>\n",
       "      <td>2838.0</td>\n",
       "      <td>High</td>\n",
       "      <td>2/26/2004 0:00</td>\n",
       "      <td>...</td>\n",
       "      <td>NaN</td>\n",
       "      <td>NaN</td>\n",
       "      <td>NaN</td>\n",
       "      <td>NaN</td>\n",
       "      <td>NaN</td>\n",
       "      <td>NaN</td>\n",
       "      <td>NaN</td>\n",
       "      <td>NaN</td>\n",
       "      <td>NaN</td>\n",
       "      <td>NaN</td>\n",
       "    </tr>\n",
       "    <tr>\n",
       "      <th>3</th>\n",
       "      <td>1139251</td>\n",
       "      <td>38500.0</td>\n",
       "      <td>1026470</td>\n",
       "      <td>332</td>\n",
       "      <td>121</td>\n",
       "      <td>3.0</td>\n",
       "      <td>2001</td>\n",
       "      <td>3486.0</td>\n",
       "      <td>High</td>\n",
       "      <td>5/19/2011 0:00</td>\n",
       "      <td>...</td>\n",
       "      <td>NaN</td>\n",
       "      <td>NaN</td>\n",
       "      <td>NaN</td>\n",
       "      <td>NaN</td>\n",
       "      <td>NaN</td>\n",
       "      <td>NaN</td>\n",
       "      <td>NaN</td>\n",
       "      <td>NaN</td>\n",
       "      <td>NaN</td>\n",
       "      <td>NaN</td>\n",
       "    </tr>\n",
       "    <tr>\n",
       "      <th>4</th>\n",
       "      <td>1139253</td>\n",
       "      <td>11000.0</td>\n",
       "      <td>1057373</td>\n",
       "      <td>17311</td>\n",
       "      <td>121</td>\n",
       "      <td>3.0</td>\n",
       "      <td>2007</td>\n",
       "      <td>722.0</td>\n",
       "      <td>Medium</td>\n",
       "      <td>7/23/2009 0:00</td>\n",
       "      <td>...</td>\n",
       "      <td>NaN</td>\n",
       "      <td>NaN</td>\n",
       "      <td>NaN</td>\n",
       "      <td>NaN</td>\n",
       "      <td>NaN</td>\n",
       "      <td>NaN</td>\n",
       "      <td>NaN</td>\n",
       "      <td>NaN</td>\n",
       "      <td>NaN</td>\n",
       "      <td>NaN</td>\n",
       "    </tr>\n",
       "  </tbody>\n",
       "</table>\n",
       "<p>5 rows × 53 columns</p>\n",
       "</div>"
      ],
      "text/plain": [
       "   SalesID  SalePrice  MachineID  ModelID  datasource  auctioneerID  YearMade  \\\n",
       "0  1139246    66000.0     999089     3157         121           3.0      2004   \n",
       "1  1139248    57000.0     117657       77         121           3.0      1996   \n",
       "2  1139249    10000.0     434808     7009         121           3.0      2001   \n",
       "3  1139251    38500.0    1026470      332         121           3.0      2001   \n",
       "4  1139253    11000.0    1057373    17311         121           3.0      2007   \n",
       "\n",
       "   MachineHoursCurrentMeter UsageBand         saledate  ...  \\\n",
       "0                      68.0       Low  11/16/2006 0:00  ...   \n",
       "1                    4640.0       Low   3/26/2004 0:00  ...   \n",
       "2                    2838.0      High   2/26/2004 0:00  ...   \n",
       "3                    3486.0      High   5/19/2011 0:00  ...   \n",
       "4                     722.0    Medium   7/23/2009 0:00  ...   \n",
       "\n",
       "  Undercarriage_Pad_Width Stick_Length Thumb Pattern_Changer Grouser_Type  \\\n",
       "0                     NaN          NaN   NaN             NaN          NaN   \n",
       "1                     NaN          NaN   NaN             NaN          NaN   \n",
       "2                     NaN          NaN   NaN             NaN          NaN   \n",
       "3                     NaN          NaN   NaN             NaN          NaN   \n",
       "4                     NaN          NaN   NaN             NaN          NaN   \n",
       "\n",
       "  Backhoe_Mounting Blade_Type Travel_Controls Differential_Type  \\\n",
       "0              NaN        NaN             NaN          Standard   \n",
       "1              NaN        NaN             NaN          Standard   \n",
       "2              NaN        NaN             NaN               NaN   \n",
       "3              NaN        NaN             NaN               NaN   \n",
       "4              NaN        NaN             NaN               NaN   \n",
       "\n",
       "  Steering_Controls  \n",
       "0      Conventional  \n",
       "1      Conventional  \n",
       "2               NaN  \n",
       "3               NaN  \n",
       "4               NaN  \n",
       "\n",
       "[5 rows x 53 columns]"
      ]
     },
     "execution_count": 2,
     "metadata": {},
     "output_type": "execute_result"
    }
   ],
   "source": [
    "df = pd.read_csv('/kaggle/input/bluebook-for-bulldozers/TrainAndValid.csv', low_memory=False)\n",
    "df.head()"
   ]
  },
  {
   "cell_type": "code",
   "execution_count": 3,
   "id": "079b56fd",
   "metadata": {
    "execution": {
     "iopub.execute_input": "2024-04-05T09:35:34.074582Z",
     "iopub.status.busy": "2024-04-05T09:35:34.073920Z",
     "iopub.status.idle": "2024-04-05T09:35:35.312695Z",
     "shell.execute_reply": "2024-04-05T09:35:35.310890Z"
    },
    "id": "5bPAVPNGkbB7",
    "outputId": "bac9b930-819c-473a-a09c-82c272aea04f",
    "papermill": {
     "duration": 1.275233,
     "end_time": "2024-04-05T09:35:35.315138",
     "exception": false,
     "start_time": "2024-04-05T09:35:34.039905",
     "status": "completed"
    },
    "tags": []
   },
   "outputs": [
    {
     "name": "stdout",
     "output_type": "stream",
     "text": [
      "<class 'pandas.core.frame.DataFrame'>\n",
      "RangeIndex: 412698 entries, 0 to 412697\n",
      "Data columns (total 53 columns):\n",
      " #   Column                    Non-Null Count   Dtype  \n",
      "---  ------                    --------------   -----  \n",
      " 0   SalesID                   412698 non-null  int64  \n",
      " 1   SalePrice                 412698 non-null  float64\n",
      " 2   MachineID                 412698 non-null  int64  \n",
      " 3   ModelID                   412698 non-null  int64  \n",
      " 4   datasource                412698 non-null  int64  \n",
      " 5   auctioneerID              392562 non-null  float64\n",
      " 6   YearMade                  412698 non-null  int64  \n",
      " 7   MachineHoursCurrentMeter  147504 non-null  float64\n",
      " 8   UsageBand                 73670 non-null   object \n",
      " 9   saledate                  412698 non-null  object \n",
      " 10  fiModelDesc               412698 non-null  object \n",
      " 11  fiBaseModel               412698 non-null  object \n",
      " 12  fiSecondaryDesc           271971 non-null  object \n",
      " 13  fiModelSeries             58667 non-null   object \n",
      " 14  fiModelDescriptor         74816 non-null   object \n",
      " 15  ProductSize               196093 non-null  object \n",
      " 16  fiProductClassDesc        412698 non-null  object \n",
      " 17  state                     412698 non-null  object \n",
      " 18  ProductGroup              412698 non-null  object \n",
      " 19  ProductGroupDesc          412698 non-null  object \n",
      " 20  Drive_System              107087 non-null  object \n",
      " 21  Enclosure                 412364 non-null  object \n",
      " 22  Forks                     197715 non-null  object \n",
      " 23  Pad_Type                  81096 non-null   object \n",
      " 24  Ride_Control              152728 non-null  object \n",
      " 25  Stick                     81096 non-null   object \n",
      " 26  Transmission              188007 non-null  object \n",
      " 27  Turbocharged              81096 non-null   object \n",
      " 28  Blade_Extension           25983 non-null   object \n",
      " 29  Blade_Width               25983 non-null   object \n",
      " 30  Enclosure_Type            25983 non-null   object \n",
      " 31  Engine_Horsepower         25983 non-null   object \n",
      " 32  Hydraulics                330133 non-null  object \n",
      " 33  Pushblock                 25983 non-null   object \n",
      " 34  Ripper                    106945 non-null  object \n",
      " 35  Scarifier                 25994 non-null   object \n",
      " 36  Tip_Control               25983 non-null   object \n",
      " 37  Tire_Size                 97638 non-null   object \n",
      " 38  Coupler                   220679 non-null  object \n",
      " 39  Coupler_System            44974 non-null   object \n",
      " 40  Grouser_Tracks            44875 non-null   object \n",
      " 41  Hydraulics_Flow           44875 non-null   object \n",
      " 42  Track_Type                102193 non-null  object \n",
      " 43  Undercarriage_Pad_Width   102916 non-null  object \n",
      " 44  Stick_Length              102261 non-null  object \n",
      " 45  Thumb                     102332 non-null  object \n",
      " 46  Pattern_Changer           102261 non-null  object \n",
      " 47  Grouser_Type              102193 non-null  object \n",
      " 48  Backhoe_Mounting          80712 non-null   object \n",
      " 49  Blade_Type                81875 non-null   object \n",
      " 50  Travel_Controls           81877 non-null   object \n",
      " 51  Differential_Type         71564 non-null   object \n",
      " 52  Steering_Controls         71522 non-null   object \n",
      "dtypes: float64(3), int64(5), object(45)\n",
      "memory usage: 166.9+ MB\n"
     ]
    }
   ],
   "source": [
    "df.info()"
   ]
  },
  {
   "cell_type": "code",
   "execution_count": 4,
   "id": "e924e4b2",
   "metadata": {
    "execution": {
     "iopub.execute_input": "2024-04-05T09:35:35.383931Z",
     "iopub.status.busy": "2024-04-05T09:35:35.383553Z",
     "iopub.status.idle": "2024-04-05T09:35:35.390626Z",
     "shell.execute_reply": "2024-04-05T09:35:35.389569Z"
    },
    "id": "HB_RFUGxnQy7",
    "outputId": "081f6f93-6494-4c22-e98b-b12b4835ebe1",
    "papermill": {
     "duration": 0.044105,
     "end_time": "2024-04-05T09:35:35.393092",
     "exception": false,
     "start_time": "2024-04-05T09:35:35.348987",
     "status": "completed"
    },
    "tags": []
   },
   "outputs": [
    {
     "data": {
      "text/plain": [
       "Index(['SalesID', 'SalePrice', 'MachineID', 'ModelID', 'datasource',\n",
       "       'auctioneerID', 'YearMade', 'MachineHoursCurrentMeter', 'UsageBand',\n",
       "       'saledate', 'fiModelDesc', 'fiBaseModel', 'fiSecondaryDesc',\n",
       "       'fiModelSeries', 'fiModelDescriptor', 'ProductSize',\n",
       "       'fiProductClassDesc', 'state', 'ProductGroup', 'ProductGroupDesc',\n",
       "       'Drive_System', 'Enclosure', 'Forks', 'Pad_Type', 'Ride_Control',\n",
       "       'Stick', 'Transmission', 'Turbocharged', 'Blade_Extension',\n",
       "       'Blade_Width', 'Enclosure_Type', 'Engine_Horsepower', 'Hydraulics',\n",
       "       'Pushblock', 'Ripper', 'Scarifier', 'Tip_Control', 'Tire_Size',\n",
       "       'Coupler', 'Coupler_System', 'Grouser_Tracks', 'Hydraulics_Flow',\n",
       "       'Track_Type', 'Undercarriage_Pad_Width', 'Stick_Length', 'Thumb',\n",
       "       'Pattern_Changer', 'Grouser_Type', 'Backhoe_Mounting', 'Blade_Type',\n",
       "       'Travel_Controls', 'Differential_Type', 'Steering_Controls'],\n",
       "      dtype='object')"
      ]
     },
     "execution_count": 4,
     "metadata": {},
     "output_type": "execute_result"
    }
   ],
   "source": [
    "df.columns"
   ]
  },
  {
   "cell_type": "code",
   "execution_count": 5,
   "id": "d7a15e6b",
   "metadata": {
    "execution": {
     "iopub.execute_input": "2024-04-05T09:35:35.461403Z",
     "iopub.status.busy": "2024-04-05T09:35:35.460975Z",
     "iopub.status.idle": "2024-04-05T09:35:35.605604Z",
     "shell.execute_reply": "2024-04-05T09:35:35.604501Z"
    },
    "id": "OBljtJFeaIOT",
    "outputId": "4d8c3095-6cc6-4d77-8163-0c743d5a52a6",
    "papermill": {
     "duration": 0.181883,
     "end_time": "2024-04-05T09:35:35.608103",
     "exception": false,
     "start_time": "2024-04-05T09:35:35.426220",
     "status": "completed"
    },
    "tags": []
   },
   "outputs": [
    {
     "data": {
      "text/html": [
       "<div>\n",
       "<style scoped>\n",
       "    .dataframe tbody tr th:only-of-type {\n",
       "        vertical-align: middle;\n",
       "    }\n",
       "\n",
       "    .dataframe tbody tr th {\n",
       "        vertical-align: top;\n",
       "    }\n",
       "\n",
       "    .dataframe thead th {\n",
       "        text-align: right;\n",
       "    }\n",
       "</style>\n",
       "<table border=\"1\" class=\"dataframe\">\n",
       "  <thead>\n",
       "    <tr style=\"text-align: right;\">\n",
       "      <th></th>\n",
       "      <th>SalesID</th>\n",
       "      <th>SalePrice</th>\n",
       "      <th>MachineID</th>\n",
       "      <th>ModelID</th>\n",
       "      <th>datasource</th>\n",
       "      <th>auctioneerID</th>\n",
       "      <th>YearMade</th>\n",
       "      <th>MachineHoursCurrentMeter</th>\n",
       "    </tr>\n",
       "  </thead>\n",
       "  <tbody>\n",
       "    <tr>\n",
       "      <th>count</th>\n",
       "      <td>4.126980e+05</td>\n",
       "      <td>412698.000000</td>\n",
       "      <td>4.126980e+05</td>\n",
       "      <td>412698.000000</td>\n",
       "      <td>412698.000000</td>\n",
       "      <td>392562.000000</td>\n",
       "      <td>412698.000000</td>\n",
       "      <td>1.475040e+05</td>\n",
       "    </tr>\n",
       "    <tr>\n",
       "      <th>mean</th>\n",
       "      <td>2.011161e+06</td>\n",
       "      <td>31215.181414</td>\n",
       "      <td>1.230061e+06</td>\n",
       "      <td>6947.201828</td>\n",
       "      <td>135.169361</td>\n",
       "      <td>6.585268</td>\n",
       "      <td>1899.049637</td>\n",
       "      <td>3.522988e+03</td>\n",
       "    </tr>\n",
       "    <tr>\n",
       "      <th>std</th>\n",
       "      <td>1.080068e+06</td>\n",
       "      <td>23141.743695</td>\n",
       "      <td>4.539533e+05</td>\n",
       "      <td>6280.824982</td>\n",
       "      <td>9.646749</td>\n",
       "      <td>17.158409</td>\n",
       "      <td>292.190243</td>\n",
       "      <td>2.716993e+04</td>\n",
       "    </tr>\n",
       "    <tr>\n",
       "      <th>min</th>\n",
       "      <td>1.139246e+06</td>\n",
       "      <td>4750.000000</td>\n",
       "      <td>0.000000e+00</td>\n",
       "      <td>28.000000</td>\n",
       "      <td>121.000000</td>\n",
       "      <td>0.000000</td>\n",
       "      <td>1000.000000</td>\n",
       "      <td>0.000000e+00</td>\n",
       "    </tr>\n",
       "    <tr>\n",
       "      <th>25%</th>\n",
       "      <td>1.421898e+06</td>\n",
       "      <td>14500.000000</td>\n",
       "      <td>1.088593e+06</td>\n",
       "      <td>3261.000000</td>\n",
       "      <td>132.000000</td>\n",
       "      <td>1.000000</td>\n",
       "      <td>1985.000000</td>\n",
       "      <td>0.000000e+00</td>\n",
       "    </tr>\n",
       "    <tr>\n",
       "      <th>50%</th>\n",
       "      <td>1.645852e+06</td>\n",
       "      <td>24000.000000</td>\n",
       "      <td>1.284397e+06</td>\n",
       "      <td>4605.000000</td>\n",
       "      <td>132.000000</td>\n",
       "      <td>2.000000</td>\n",
       "      <td>1995.000000</td>\n",
       "      <td>0.000000e+00</td>\n",
       "    </tr>\n",
       "    <tr>\n",
       "      <th>75%</th>\n",
       "      <td>2.261012e+06</td>\n",
       "      <td>40000.000000</td>\n",
       "      <td>1.478079e+06</td>\n",
       "      <td>8899.000000</td>\n",
       "      <td>136.000000</td>\n",
       "      <td>4.000000</td>\n",
       "      <td>2001.000000</td>\n",
       "      <td>3.209000e+03</td>\n",
       "    </tr>\n",
       "    <tr>\n",
       "      <th>max</th>\n",
       "      <td>6.333349e+06</td>\n",
       "      <td>142000.000000</td>\n",
       "      <td>2.486330e+06</td>\n",
       "      <td>37198.000000</td>\n",
       "      <td>173.000000</td>\n",
       "      <td>99.000000</td>\n",
       "      <td>2014.000000</td>\n",
       "      <td>2.483300e+06</td>\n",
       "    </tr>\n",
       "  </tbody>\n",
       "</table>\n",
       "</div>"
      ],
      "text/plain": [
       "            SalesID      SalePrice     MachineID        ModelID  \\\n",
       "count  4.126980e+05  412698.000000  4.126980e+05  412698.000000   \n",
       "mean   2.011161e+06   31215.181414  1.230061e+06    6947.201828   \n",
       "std    1.080068e+06   23141.743695  4.539533e+05    6280.824982   \n",
       "min    1.139246e+06    4750.000000  0.000000e+00      28.000000   \n",
       "25%    1.421898e+06   14500.000000  1.088593e+06    3261.000000   \n",
       "50%    1.645852e+06   24000.000000  1.284397e+06    4605.000000   \n",
       "75%    2.261012e+06   40000.000000  1.478079e+06    8899.000000   \n",
       "max    6.333349e+06  142000.000000  2.486330e+06   37198.000000   \n",
       "\n",
       "          datasource   auctioneerID       YearMade  MachineHoursCurrentMeter  \n",
       "count  412698.000000  392562.000000  412698.000000              1.475040e+05  \n",
       "mean      135.169361       6.585268    1899.049637              3.522988e+03  \n",
       "std         9.646749      17.158409     292.190243              2.716993e+04  \n",
       "min       121.000000       0.000000    1000.000000              0.000000e+00  \n",
       "25%       132.000000       1.000000    1985.000000              0.000000e+00  \n",
       "50%       132.000000       2.000000    1995.000000              0.000000e+00  \n",
       "75%       136.000000       4.000000    2001.000000              3.209000e+03  \n",
       "max       173.000000      99.000000    2014.000000              2.483300e+06  "
      ]
     },
     "execution_count": 5,
     "metadata": {},
     "output_type": "execute_result"
    }
   ],
   "source": [
    "df.describe()"
   ]
  },
  {
   "cell_type": "markdown",
   "id": "b178ed25",
   "metadata": {
    "id": "ZiQk9c7OaL-n",
    "papermill": {
     "duration": 0.033595,
     "end_time": "2024-04-05T09:35:35.675316",
     "exception": false,
     "start_time": "2024-04-05T09:35:35.641721",
     "status": "completed"
    },
    "tags": []
   },
   "source": [
    "**Observation : Here we can notice that minimum vale of `YearMade` is 1000 which look some sort of error**"
   ]
  },
  {
   "cell_type": "markdown",
   "id": "bd8ea83d",
   "metadata": {
    "id": "bSqHgVV-iNpZ",
    "papermill": {
     "duration": 0.095325,
     "end_time": "2024-04-05T09:35:35.804172",
     "exception": false,
     "start_time": "2024-04-05T09:35:35.708847",
     "status": "completed"
    },
    "tags": []
   },
   "source": [
    "#### Make copy of original dataset before making and changes."
   ]
  },
  {
   "cell_type": "code",
   "execution_count": 6,
   "id": "a1258ba9",
   "metadata": {
    "execution": {
     "iopub.execute_input": "2024-04-05T09:35:35.874461Z",
     "iopub.status.busy": "2024-04-05T09:35:35.874027Z",
     "iopub.status.idle": "2024-04-05T09:35:36.049103Z",
     "shell.execute_reply": "2024-04-05T09:35:36.047970Z"
    },
    "id": "FHHhZCnefDI1",
    "papermill": {
     "duration": 0.212703,
     "end_time": "2024-04-05T09:35:36.051802",
     "exception": false,
     "start_time": "2024-04-05T09:35:35.839099",
     "status": "completed"
    },
    "tags": []
   },
   "outputs": [],
   "source": [
    "df_temp = df.copy()"
   ]
  },
  {
   "cell_type": "markdown",
   "id": "09ead181",
   "metadata": {
    "id": "e2z0RLLUiV1m",
    "papermill": {
     "duration": 0.033677,
     "end_time": "2024-04-05T09:35:36.119095",
     "exception": false,
     "start_time": "2024-04-05T09:35:36.085418",
     "status": "completed"
    },
    "tags": []
   },
   "source": [
    "#### Work on `YearMade` column where values are equal to 1000."
   ]
  },
  {
   "cell_type": "code",
   "execution_count": 7,
   "id": "facf56da",
   "metadata": {
    "execution": {
     "iopub.execute_input": "2024-04-05T09:35:36.189320Z",
     "iopub.status.busy": "2024-04-05T09:35:36.188898Z",
     "iopub.status.idle": "2024-04-05T09:35:36.200476Z",
     "shell.execute_reply": "2024-04-05T09:35:36.199352Z"
    },
    "id": "UmjWAy3BaO5f",
    "outputId": "f11047ba-81e9-4bfb-fd0d-4334fab9eb4a",
    "papermill": {
     "duration": 0.048805,
     "end_time": "2024-04-05T09:35:36.202792",
     "exception": false,
     "start_time": "2024-04-05T09:35:36.153987",
     "status": "completed"
    },
    "tags": []
   },
   "outputs": [
    {
     "data": {
      "text/plain": [
       "array([1000, 1919, 1920, 1937, 1942, 1947, 1948, 1949, 1950, 1951, 1952,\n",
       "       1953, 1954, 1955, 1956, 1957, 1958, 1959, 1960, 1961, 1962, 1963,\n",
       "       1964, 1965, 1966, 1967, 1968, 1969, 1970, 1971, 1972, 1973, 1974,\n",
       "       1975, 1976, 1977, 1978, 1979, 1980, 1981, 1982, 1983, 1984, 1985,\n",
       "       1986, 1987, 1988, 1989, 1990, 1991, 1992, 1993, 1994, 1995, 1996,\n",
       "       1997, 1998, 1999, 2000, 2001, 2002, 2003, 2004, 2005, 2006, 2007,\n",
       "       2008, 2009, 2010, 2011, 2012, 2013, 2014])"
      ]
     },
     "execution_count": 7,
     "metadata": {},
     "output_type": "execute_result"
    }
   ],
   "source": [
    "np.sort(df['YearMade'].unique())\n"
   ]
  },
  {
   "cell_type": "code",
   "execution_count": 8,
   "id": "a2cebe98",
   "metadata": {
    "execution": {
     "iopub.execute_input": "2024-04-05T09:35:36.272879Z",
     "iopub.status.busy": "2024-04-05T09:35:36.272480Z",
     "iopub.status.idle": "2024-04-05T09:35:36.329025Z",
     "shell.execute_reply": "2024-04-05T09:35:36.327917Z"
    },
    "id": "UQjJSZaxbL8R",
    "outputId": "6dc502b0-8bce-47c4-fa9d-5d8cda69c612",
    "papermill": {
     "duration": 0.09477,
     "end_time": "2024-04-05T09:35:36.331704",
     "exception": false,
     "start_time": "2024-04-05T09:35:36.236934",
     "status": "completed"
    },
    "tags": []
   },
   "outputs": [
    {
     "data": {
      "text/plain": [
       "((39391, 53), (412698, 53))"
      ]
     },
     "execution_count": 8,
     "metadata": {},
     "output_type": "execute_result"
    }
   ],
   "source": [
    "df[df['YearMade'] == 1000].shape, df.shape"
   ]
  },
  {
   "cell_type": "markdown",
   "id": "1ff3d0d2",
   "metadata": {
    "id": "mclYVRlIbYgN",
    "papermill": {
     "duration": 0.033482,
     "end_time": "2024-04-05T09:35:36.399268",
     "exception": false,
     "start_time": "2024-04-05T09:35:36.365786",
     "status": "completed"
    },
    "tags": []
   },
   "source": [
    "Here size of `YearMade` with value of 1000 is considerably large. Hence removing it from dataset is considerably good for our model."
   ]
  },
  {
   "cell_type": "code",
   "execution_count": 9,
   "id": "1eed8575",
   "metadata": {
    "execution": {
     "iopub.execute_input": "2024-04-05T09:35:36.469117Z",
     "iopub.status.busy": "2024-04-05T09:35:36.468498Z",
     "iopub.status.idle": "2024-04-05T09:35:37.237808Z",
     "shell.execute_reply": "2024-04-05T09:35:37.236677Z"
    },
    "id": "rAZglGOldvkP",
    "outputId": "102a690e-8476-4803-d361-15293419f8b9",
    "papermill": {
     "duration": 0.807287,
     "end_time": "2024-04-05T09:35:37.240442",
     "exception": false,
     "start_time": "2024-04-05T09:35:36.433155",
     "status": "completed"
    },
    "tags": []
   },
   "outputs": [
    {
     "data": {
      "image/png": "[encoded data removed]",
      "text/plain": [
       "<Figure size 800x550 with 1 Axes>"
      ]
     },
     "metadata": {},
     "output_type": "display_data"
    }
   ],
   "source": [
    "df[df['YearMade'] != 1000]['YearMade'].plot(kind='hist');"
   ]
  },
  {
   "cell_type": "code",
   "execution_count": 10,
   "id": "5cf1fd5c",
   "metadata": {
    "execution": {
     "iopub.execute_input": "2024-04-05T09:35:37.312229Z",
     "iopub.status.busy": "2024-04-05T09:35:37.311449Z",
     "iopub.status.idle": "2024-04-05T09:35:37.613685Z",
     "shell.execute_reply": "2024-04-05T09:35:37.612553Z"
    },
    "id": "FgE_-ZuKby6N",
    "outputId": "eaa160b4-2731-4c5d-c545-afddae323b5c",
    "papermill": {
     "duration": 0.340894,
     "end_time": "2024-04-05T09:35:37.616290",
     "exception": false,
     "start_time": "2024-04-05T09:35:37.275396",
     "status": "completed"
    },
    "tags": []
   },
   "outputs": [
    {
     "data": {
      "image/png": "[encoded data removed]",
      "text/plain": [
       "<Figure size 800x550 with 1 Axes>"
      ]
     },
     "metadata": {},
     "output_type": "display_data"
    }
   ],
   "source": [
    "plt.hist(df['YearMade']);"
   ]
  },
  {
   "cell_type": "markdown",
   "id": "44f3e86d",
   "metadata": {
    "id": "qaB4qI9QfIG1",
    "papermill": {
     "duration": 0.034466,
     "end_time": "2024-04-05T09:35:37.685732",
     "exception": false,
     "start_time": "2024-04-05T09:35:37.651266",
     "status": "completed"
    },
    "tags": []
   },
   "source": [
    "#### Replace `YearMade` with median value that is `1995`"
   ]
  },
  {
   "cell_type": "code",
   "execution_count": 11,
   "id": "94f36d38",
   "metadata": {
    "execution": {
     "iopub.execute_input": "2024-04-05T09:35:37.757352Z",
     "iopub.status.busy": "2024-04-05T09:35:37.756690Z",
     "iopub.status.idle": "2024-04-05T09:35:37.764045Z",
     "shell.execute_reply": "2024-04-05T09:35:37.763208Z"
    },
    "id": "mTejiDwDfxbV",
    "papermill": {
     "duration": 0.046167,
     "end_time": "2024-04-05T09:35:37.766462",
     "exception": false,
     "start_time": "2024-04-05T09:35:37.720295",
     "status": "completed"
    },
    "tags": []
   },
   "outputs": [],
   "source": [
    "df_temp['YearMade'].replace(1000, 1995, inplace=True)"
   ]
  },
  {
   "cell_type": "markdown",
   "id": "ca7f8962",
   "metadata": {
    "id": "-EwknQd6hfe2",
    "papermill": {
     "duration": 0.035416,
     "end_time": "2024-04-05T09:35:37.837189",
     "exception": false,
     "start_time": "2024-04-05T09:35:37.801773",
     "status": "completed"
    },
    "tags": []
   },
   "source": [
    "Now, `Year` equals to 1000 are removed"
   ]
  },
  {
   "cell_type": "markdown",
   "id": "5cfefde1",
   "metadata": {
    "id": "rFNPURaeuD_a",
    "papermill": {
     "duration": 0.035694,
     "end_time": "2024-04-05T09:35:37.908074",
     "exception": false,
     "start_time": "2024-04-05T09:35:37.872380",
     "status": "completed"
    },
    "tags": []
   },
   "source": [
    "#### Here datatype of saledate column is object.\n",
    "Let us first convert it to datetime datatype"
   ]
  },
  {
   "cell_type": "code",
   "execution_count": 12,
   "id": "3bdb3f7e",
   "metadata": {
    "execution": {
     "iopub.execute_input": "2024-04-05T09:35:37.981267Z",
     "iopub.status.busy": "2024-04-05T09:35:37.980619Z",
     "iopub.status.idle": "2024-04-05T09:35:38.089039Z",
     "shell.execute_reply": "2024-04-05T09:35:38.087910Z"
    },
    "id": "zOVaD0mUtAuR",
    "papermill": {
     "duration": 0.147894,
     "end_time": "2024-04-05T09:35:38.091735",
     "exception": false,
     "start_time": "2024-04-05T09:35:37.943841",
     "status": "completed"
    },
    "tags": []
   },
   "outputs": [],
   "source": [
    "df_temp['saledate'] = pd.to_datetime(df_temp['saledate'])"
   ]
  },
  {
   "cell_type": "code",
   "execution_count": 13,
   "id": "bed7f6c9",
   "metadata": {
    "execution": {
     "iopub.execute_input": "2024-04-05T09:35:38.166273Z",
     "iopub.status.busy": "2024-04-05T09:35:38.165521Z",
     "iopub.status.idle": "2024-04-05T09:35:38.172601Z",
     "shell.execute_reply": "2024-04-05T09:35:38.171587Z"
    },
    "id": "-eeSGt_Xr8tw",
    "outputId": "b282fb17-605f-4934-b113-c846ca678f17",
    "papermill": {
     "duration": 0.047341,
     "end_time": "2024-04-05T09:35:38.174821",
     "exception": false,
     "start_time": "2024-04-05T09:35:38.127480",
     "status": "completed"
    },
    "tags": []
   },
   "outputs": [
    {
     "data": {
      "text/plain": [
       "dtype('<M8[ns]')"
      ]
     },
     "execution_count": 13,
     "metadata": {},
     "output_type": "execute_result"
    }
   ],
   "source": [
    "df_temp['saledate'].dtype"
   ]
  },
  {
   "cell_type": "markdown",
   "id": "b083293b",
   "metadata": {
    "id": "xsaYNV2-uOzK",
    "papermill": {
     "duration": 0.034945,
     "end_time": "2024-04-05T09:35:38.244950",
     "exception": false,
     "start_time": "2024-04-05T09:35:38.210005",
     "status": "completed"
    },
    "tags": []
   },
   "source": [
    "Now saledate column is converted to datetime64 datatype."
   ]
  },
  {
   "cell_type": "code",
   "execution_count": 14,
   "id": "6b080b4b",
   "metadata": {
    "execution": {
     "iopub.execute_input": "2024-04-05T09:35:38.317666Z",
     "iopub.status.busy": "2024-04-05T09:35:38.316757Z",
     "iopub.status.idle": "2024-04-05T09:35:38.704890Z",
     "shell.execute_reply": "2024-04-05T09:35:38.703628Z"
    },
    "id": "-GlqJ4AUtGNn",
    "outputId": "acc475dd-6e9d-4bde-f0fe-2560f296b347",
    "papermill": {
     "duration": 0.427669,
     "end_time": "2024-04-05T09:35:38.708073",
     "exception": false,
     "start_time": "2024-04-05T09:35:38.280404",
     "status": "completed"
    },
    "tags": []
   },
   "outputs": [
    {
     "data": {
      "image/png": "[encoded data removed]",
      "text/plain": [
       "<Figure size 800x550 with 1 Axes>"
      ]
     },
     "metadata": {},
     "output_type": "display_data"
    }
   ],
   "source": [
    "plt.scatter(df_temp['saledate'][:500], df_temp['SalePrice'][:500]);"
   ]
  },
  {
   "cell_type": "code",
   "execution_count": 15,
   "id": "a5a201a6",
   "metadata": {
    "execution": {
     "iopub.execute_input": "2024-04-05T09:35:38.782258Z",
     "iopub.status.busy": "2024-04-05T09:35:38.781867Z",
     "iopub.status.idle": "2024-04-05T09:35:39.566156Z",
     "shell.execute_reply": "2024-04-05T09:35:39.565013Z"
    },
    "id": "LBneRiZnt12k",
    "outputId": "f86986b4-db8a-4e99-f6f0-4ee26d97dca6",
    "papermill": {
     "duration": 0.824431,
     "end_time": "2024-04-05T09:35:39.568874",
     "exception": false,
     "start_time": "2024-04-05T09:35:38.744443",
     "status": "completed"
    },
    "tags": []
   },
   "outputs": [
    {
     "data": {
      "image/png": "[encoded data removed]",
      "text/plain": [
       "<Figure size 800x550 with 1 Axes>"
      ]
     },
     "metadata": {},
     "output_type": "display_data"
    }
   ],
   "source": [
    "sns.histplot(df_temp['SalePrice'], bins=20);"
   ]
  },
  {
   "cell_type": "markdown",
   "id": "53e827bc",
   "metadata": {
    "id": "dNJdTsroIUNH",
    "papermill": {
     "duration": 0.039047,
     "end_time": "2024-04-05T09:35:39.645472",
     "exception": false,
     "start_time": "2024-04-05T09:35:39.606425",
     "status": "completed"
    },
    "tags": []
   },
   "source": [
    "**Observation : Above SalePrice is right skewed distribution.**"
   ]
  },
  {
   "cell_type": "markdown",
   "id": "5568c02f",
   "metadata": {
    "id": "1qGJV6iQJYif",
    "papermill": {
     "duration": 0.036165,
     "end_time": "2024-04-05T09:35:39.718216",
     "exception": false,
     "start_time": "2024-04-05T09:35:39.682051",
     "status": "completed"
    },
    "tags": []
   },
   "source": [
    "#### Sort the dataframe by date because we are working with time series data. It will make our task easy."
   ]
  },
  {
   "cell_type": "code",
   "execution_count": 16,
   "id": "5293c2d6",
   "metadata": {
    "execution": {
     "iopub.execute_input": "2024-04-05T09:35:39.793859Z",
     "iopub.status.busy": "2024-04-05T09:35:39.792525Z",
     "iopub.status.idle": "2024-04-05T09:35:40.653031Z",
     "shell.execute_reply": "2024-04-05T09:35:40.651921Z"
    },
    "id": "dWIBLvqLJiPc",
    "outputId": "40007f65-2b5a-47ae-89f4-c92514e60c34",
    "papermill": {
     "duration": 0.900681,
     "end_time": "2024-04-05T09:35:40.655461",
     "exception": false,
     "start_time": "2024-04-05T09:35:39.754780",
     "status": "completed"
    },
    "tags": []
   },
   "outputs": [
    {
     "data": {
      "text/plain": [
       "205615   1989-01-17\n",
       "274835   1989-01-31\n",
       "141296   1989-01-31\n",
       "212552   1989-01-31\n",
       "62755    1989-01-31\n",
       "            ...    \n",
       "410879   2012-04-28\n",
       "412476   2012-04-28\n",
       "411927   2012-04-28\n",
       "407124   2012-04-28\n",
       "409203   2012-04-28\n",
       "Name: saledate, Length: 412698, dtype: datetime64[ns]"
      ]
     },
     "execution_count": 16,
     "metadata": {},
     "output_type": "execute_result"
    }
   ],
   "source": [
    "df_temp.sort_values(by='saledate', inplace=True)\n",
    "df_temp['saledate']"
   ]
  },
  {
   "cell_type": "markdown",
   "id": "f9eb5f17",
   "metadata": {
    "id": "kDT-3PZyIoFW",
    "papermill": {
     "duration": 0.036048,
     "end_time": "2024-04-05T09:35:40.727756",
     "exception": false,
     "start_time": "2024-04-05T09:35:40.691708",
     "status": "completed"
    },
    "tags": []
   },
   "source": [
    "#### Now, Extracting Year, Month and day from `saledate` column\n"
   ]
  },
  {
   "cell_type": "code",
   "execution_count": 17,
   "id": "7902556f",
   "metadata": {
    "execution": {
     "iopub.execute_input": "2024-04-05T09:35:40.803639Z",
     "iopub.status.busy": "2024-04-05T09:35:40.802609Z",
     "iopub.status.idle": "2024-04-05T09:35:40.875520Z",
     "shell.execute_reply": "2024-04-05T09:35:40.874352Z"
    },
    "id": "b4CbbHxDTnAR",
    "papermill": {
     "duration": 0.114164,
     "end_time": "2024-04-05T09:35:40.878371",
     "exception": false,
     "start_time": "2024-04-05T09:35:40.764207",
     "status": "completed"
    },
    "tags": []
   },
   "outputs": [],
   "source": [
    "df_temp['saleYear'] = df_temp['saledate'].dt.year\n",
    "df_temp['saleMonth'] = df_temp['saledate'].dt.month\n",
    "df_temp['saleDay'] = df_temp['saledate'].dt.day\n",
    "df_temp[\"saleDayOfWeek\"] = df_temp.saledate.dt.dayofweek\n",
    "df_temp[\"saleDayOfYear\"] = df_temp.saledate.dt.dayofyear"
   ]
  },
  {
   "cell_type": "markdown",
   "id": "6e4eccfb",
   "metadata": {
    "id": "9PtpV5xWibVd",
    "papermill": {
     "duration": 0.03744,
     "end_time": "2024-04-05T09:35:40.953432",
     "exception": false,
     "start_time": "2024-04-05T09:35:40.915992",
     "status": "completed"
    },
    "tags": []
   },
   "source": [
    "Now, Remove `saledate` column from dataset as we extracted all the values from it"
   ]
  },
  {
   "cell_type": "code",
   "execution_count": 18,
   "id": "4fc470e7",
   "metadata": {
    "execution": {
     "iopub.execute_input": "2024-04-05T09:35:41.030700Z",
     "iopub.status.busy": "2024-04-05T09:35:41.029940Z",
     "iopub.status.idle": "2024-04-05T09:35:41.348010Z",
     "shell.execute_reply": "2024-04-05T09:35:41.346091Z"
    },
    "id": "jH3aA99PinwB",
    "outputId": "a9d36144-2dc5-45d4-a34c-057053ad1fcd",
    "papermill": {
     "duration": 0.359408,
     "end_time": "2024-04-05T09:35:41.350561",
     "exception": false,
     "start_time": "2024-04-05T09:35:40.991153",
     "status": "completed"
    },
    "tags": []
   },
   "outputs": [
    {
     "data": {
      "text/plain": [
       "False"
      ]
     },
     "execution_count": 18,
     "metadata": {},
     "output_type": "execute_result"
    }
   ],
   "source": [
    "df_temp.drop('saledate', axis=1, inplace=True)\n",
    "'saledate' in df_temp.columns"
   ]
  },
  {
   "cell_type": "code",
   "execution_count": 19,
   "id": "fa6bffd8",
   "metadata": {
    "execution": {
     "iopub.execute_input": "2024-04-05T09:35:41.425913Z",
     "iopub.status.busy": "2024-04-05T09:35:41.425298Z",
     "iopub.status.idle": "2024-04-05T09:35:41.622478Z",
     "shell.execute_reply": "2024-04-05T09:35:41.621356Z"
    },
    "id": "_Mbad_ytYUw_",
    "outputId": "d573560e-7765-486b-efe3-206e040c832f",
    "papermill": {
     "duration": 0.237626,
     "end_time": "2024-04-05T09:35:41.624885",
     "exception": false,
     "start_time": "2024-04-05T09:35:41.387259",
     "status": "completed"
    },
    "tags": []
   },
   "outputs": [
    {
     "data": {
      "text/html": [
       "<div>\n",
       "<style scoped>\n",
       "    .dataframe tbody tr th:only-of-type {\n",
       "        vertical-align: middle;\n",
       "    }\n",
       "\n",
       "    .dataframe tbody tr th {\n",
       "        vertical-align: top;\n",
       "    }\n",
       "\n",
       "    .dataframe thead th {\n",
       "        text-align: right;\n",
       "    }\n",
       "</style>\n",
       "<table border=\"1\" class=\"dataframe\">\n",
       "  <thead>\n",
       "    <tr style=\"text-align: right;\">\n",
       "      <th></th>\n",
       "      <th>SalesID</th>\n",
       "      <th>SalePrice</th>\n",
       "      <th>MachineID</th>\n",
       "      <th>ModelID</th>\n",
       "      <th>datasource</th>\n",
       "      <th>auctioneerID</th>\n",
       "      <th>YearMade</th>\n",
       "      <th>MachineHoursCurrentMeter</th>\n",
       "      <th>saleYear</th>\n",
       "      <th>saleMonth</th>\n",
       "      <th>saleDay</th>\n",
       "      <th>saleDayOfWeek</th>\n",
       "      <th>saleDayOfYear</th>\n",
       "    </tr>\n",
       "  </thead>\n",
       "  <tbody>\n",
       "    <tr>\n",
       "      <th>count</th>\n",
       "      <td>4.126980e+05</td>\n",
       "      <td>412698.000000</td>\n",
       "      <td>4.126980e+05</td>\n",
       "      <td>412698.000000</td>\n",
       "      <td>412698.000000</td>\n",
       "      <td>392562.000000</td>\n",
       "      <td>412698.000000</td>\n",
       "      <td>1.475040e+05</td>\n",
       "      <td>412698.000000</td>\n",
       "      <td>412698.000000</td>\n",
       "      <td>412698.000000</td>\n",
       "      <td>412698.000000</td>\n",
       "      <td>412698.000000</td>\n",
       "    </tr>\n",
       "    <tr>\n",
       "      <th>mean</th>\n",
       "      <td>2.011161e+06</td>\n",
       "      <td>31215.181414</td>\n",
       "      <td>1.230061e+06</td>\n",
       "      <td>6947.201828</td>\n",
       "      <td>135.169361</td>\n",
       "      <td>6.585268</td>\n",
       "      <td>1994.019918</td>\n",
       "      <td>3.522988e+03</td>\n",
       "      <td>2004.317382</td>\n",
       "      <td>6.300268</td>\n",
       "      <td>16.152894</td>\n",
       "      <td>2.594338</td>\n",
       "      <td>176.784094</td>\n",
       "    </tr>\n",
       "    <tr>\n",
       "      <th>std</th>\n",
       "      <td>1.080068e+06</td>\n",
       "      <td>23141.743695</td>\n",
       "      <td>4.539533e+05</td>\n",
       "      <td>6280.824982</td>\n",
       "      <td>9.646749</td>\n",
       "      <td>17.158409</td>\n",
       "      <td>9.220268</td>\n",
       "      <td>2.716993e+04</td>\n",
       "      <td>5.821090</td>\n",
       "      <td>3.437276</td>\n",
       "      <td>8.429510</td>\n",
       "      <td>1.417971</td>\n",
       "      <td>103.910718</td>\n",
       "    </tr>\n",
       "    <tr>\n",
       "      <th>min</th>\n",
       "      <td>1.139246e+06</td>\n",
       "      <td>4750.000000</td>\n",
       "      <td>0.000000e+00</td>\n",
       "      <td>28.000000</td>\n",
       "      <td>121.000000</td>\n",
       "      <td>0.000000</td>\n",
       "      <td>1919.000000</td>\n",
       "      <td>0.000000e+00</td>\n",
       "      <td>1989.000000</td>\n",
       "      <td>1.000000</td>\n",
       "      <td>1.000000</td>\n",
       "      <td>0.000000</td>\n",
       "      <td>1.000000</td>\n",
       "    </tr>\n",
       "    <tr>\n",
       "      <th>25%</th>\n",
       "      <td>1.421898e+06</td>\n",
       "      <td>14500.000000</td>\n",
       "      <td>1.088593e+06</td>\n",
       "      <td>3261.000000</td>\n",
       "      <td>132.000000</td>\n",
       "      <td>1.000000</td>\n",
       "      <td>1989.000000</td>\n",
       "      <td>0.000000e+00</td>\n",
       "      <td>2000.000000</td>\n",
       "      <td>3.000000</td>\n",
       "      <td>9.000000</td>\n",
       "      <td>2.000000</td>\n",
       "      <td>82.000000</td>\n",
       "    </tr>\n",
       "    <tr>\n",
       "      <th>50%</th>\n",
       "      <td>1.645852e+06</td>\n",
       "      <td>24000.000000</td>\n",
       "      <td>1.284397e+06</td>\n",
       "      <td>4605.000000</td>\n",
       "      <td>132.000000</td>\n",
       "      <td>2.000000</td>\n",
       "      <td>1995.000000</td>\n",
       "      <td>0.000000e+00</td>\n",
       "      <td>2006.000000</td>\n",
       "      <td>6.000000</td>\n",
       "      <td>16.000000</td>\n",
       "      <td>3.000000</td>\n",
       "      <td>165.000000</td>\n",
       "    </tr>\n",
       "    <tr>\n",
       "      <th>75%</th>\n",
       "      <td>2.261012e+06</td>\n",
       "      <td>40000.000000</td>\n",
       "      <td>1.478079e+06</td>\n",
       "      <td>8899.000000</td>\n",
       "      <td>136.000000</td>\n",
       "      <td>4.000000</td>\n",
       "      <td>2001.000000</td>\n",
       "      <td>3.209000e+03</td>\n",
       "      <td>2009.000000</td>\n",
       "      <td>9.000000</td>\n",
       "      <td>23.000000</td>\n",
       "      <td>3.000000</td>\n",
       "      <td>270.000000</td>\n",
       "    </tr>\n",
       "    <tr>\n",
       "      <th>max</th>\n",
       "      <td>6.333349e+06</td>\n",
       "      <td>142000.000000</td>\n",
       "      <td>2.486330e+06</td>\n",
       "      <td>37198.000000</td>\n",
       "      <td>173.000000</td>\n",
       "      <td>99.000000</td>\n",
       "      <td>2014.000000</td>\n",
       "      <td>2.483300e+06</td>\n",
       "      <td>2012.000000</td>\n",
       "      <td>12.000000</td>\n",
       "      <td>31.000000</td>\n",
       "      <td>6.000000</td>\n",
       "      <td>365.000000</td>\n",
       "    </tr>\n",
       "  </tbody>\n",
       "</table>\n",
       "</div>"
      ],
      "text/plain": [
       "            SalesID      SalePrice     MachineID        ModelID  \\\n",
       "count  4.126980e+05  412698.000000  4.126980e+05  412698.000000   \n",
       "mean   2.011161e+06   31215.181414  1.230061e+06    6947.201828   \n",
       "std    1.080068e+06   23141.743695  4.539533e+05    6280.824982   \n",
       "min    1.139246e+06    4750.000000  0.000000e+00      28.000000   \n",
       "25%    1.421898e+06   14500.000000  1.088593e+06    3261.000000   \n",
       "50%    1.645852e+06   24000.000000  1.284397e+06    4605.000000   \n",
       "75%    2.261012e+06   40000.000000  1.478079e+06    8899.000000   \n",
       "max    6.333349e+06  142000.000000  2.486330e+06   37198.000000   \n",
       "\n",
       "          datasource   auctioneerID       YearMade  MachineHoursCurrentMeter  \\\n",
       "count  412698.000000  392562.000000  412698.000000              1.475040e+05   \n",
       "mean      135.169361       6.585268    1994.019918              3.522988e+03   \n",
       "std         9.646749      17.158409       9.220268              2.716993e+04   \n",
       "min       121.000000       0.000000    1919.000000              0.000000e+00   \n",
       "25%       132.000000       1.000000    1989.000000              0.000000e+00   \n",
       "50%       132.000000       2.000000    1995.000000              0.000000e+00   \n",
       "75%       136.000000       4.000000    2001.000000              3.209000e+03   \n",
       "max       173.000000      99.000000    2014.000000              2.483300e+06   \n",
       "\n",
       "            saleYear      saleMonth        saleDay  saleDayOfWeek  \\\n",
       "count  412698.000000  412698.000000  412698.000000  412698.000000   \n",
       "mean     2004.317382       6.300268      16.152894       2.594338   \n",
       "std         5.821090       3.437276       8.429510       1.417971   \n",
       "min      1989.000000       1.000000       1.000000       0.000000   \n",
       "25%      2000.000000       3.000000       9.000000       2.000000   \n",
       "50%      2006.000000       6.000000      16.000000       3.000000   \n",
       "75%      2009.000000       9.000000      23.000000       3.000000   \n",
       "max      2012.000000      12.000000      31.000000       6.000000   \n",
       "\n",
       "       saleDayOfYear  \n",
       "count  412698.000000  \n",
       "mean      176.784094  \n",
       "std       103.910718  \n",
       "min         1.000000  \n",
       "25%        82.000000  \n",
       "50%       165.000000  \n",
       "75%       270.000000  \n",
       "max       365.000000  "
      ]
     },
     "execution_count": 19,
     "metadata": {},
     "output_type": "execute_result"
    }
   ],
   "source": [
    "df_temp.describe()"
   ]
  },
  {
   "cell_type": "markdown",
   "id": "6aa4387f",
   "metadata": {
    "id": "BEm9L626t1Xb",
    "papermill": {
     "duration": 0.036599,
     "end_time": "2024-04-05T09:35:41.698322",
     "exception": false,
     "start_time": "2024-04-05T09:35:41.661723",
     "status": "completed"
    },
    "tags": []
   },
   "source": [
    "## Explanotary Data Analysis"
   ]
  },
  {
   "cell_type": "markdown",
   "id": "9dcaa104",
   "metadata": {
    "id": "h5jUX9Fmt7Pn",
    "papermill": {
     "duration": 0.036467,
     "end_time": "2024-04-05T09:35:41.771777",
     "exception": false,
     "start_time": "2024-04-05T09:35:41.735310",
     "status": "completed"
    },
    "tags": []
   },
   "source": [
    "### Top 5 States in terms of total sales"
   ]
  },
  {
   "cell_type": "code",
   "execution_count": 20,
   "id": "db8916b6",
   "metadata": {
    "execution": {
     "iopub.execute_input": "2024-04-05T09:35:41.849144Z",
     "iopub.status.busy": "2024-04-05T09:35:41.848480Z",
     "iopub.status.idle": "2024-04-05T09:35:41.901838Z",
     "shell.execute_reply": "2024-04-05T09:35:41.900855Z"
    },
    "id": "oUzQxhxKuwoW",
    "papermill": {
     "duration": 0.095436,
     "end_time": "2024-04-05T09:35:41.904996",
     "exception": false,
     "start_time": "2024-04-05T09:35:41.809560",
     "status": "completed"
    },
    "tags": []
   },
   "outputs": [],
   "source": [
    "state_df = df_temp.groupby(by='state').agg({\"SalePrice\": [\"sum\"]})\n",
    "state_df.columns = ['Total sale']\n",
    "state_df['Total sale'] = state_df['Total sale'].div(1000000)\n",
    "state_df.sort_values(by='Total sale',axis=0, ascending=False, inplace=True)"
   ]
  },
  {
   "cell_type": "code",
   "execution_count": 21,
   "id": "3f3b5fd9",
   "metadata": {
    "execution": {
     "iopub.execute_input": "2024-04-05T09:35:41.982604Z",
     "iopub.status.busy": "2024-04-05T09:35:41.982231Z",
     "iopub.status.idle": "2024-04-05T09:35:42.242171Z",
     "shell.execute_reply": "2024-04-05T09:35:42.240906Z"
    },
    "id": "NRfxkpMWw_gN",
    "outputId": "11a43d74-e0af-400d-e4dd-9b54b399ed51",
    "papermill": {
     "duration": 0.301952,
     "end_time": "2024-04-05T09:35:42.244830",
     "exception": false,
     "start_time": "2024-04-05T09:35:41.942878",
     "status": "completed"
    },
    "tags": []
   },
   "outputs": [
    {
     "data": {
      "image/png": "[encoded data removed]",
      "text/plain": [
       "<Figure size 1000x600 with 1 Axes>"
      ]
     },
     "metadata": {},
     "output_type": "display_data"
    }
   ],
   "source": [
    "fig, ax = plt.subplots(figsize=(10,6))\n",
    "top_states = state_df[:7]\n",
    "\n",
    "bars = ax.bar(top_states.index, height=top_states['Total sale'])\n",
    "\n",
    "label= []\n",
    "for bar in bars:\n",
    "  label.append(bar.get_height())\n",
    "\n",
    "ax.set_ylabel(\"Total sale in million\")\n",
    "plt.bar_label(bars);"
   ]
  },
  {
   "cell_type": "markdown",
   "id": "f5d678ff",
   "metadata": {
    "id": "yoGAwfa_441-",
    "papermill": {
     "duration": 0.037646,
     "end_time": "2024-04-05T09:35:42.320561",
     "exception": false,
     "start_time": "2024-04-05T09:35:42.282915",
     "status": "completed"
    },
    "tags": []
   },
   "source": [
    "Florida, Texas and California are top performer"
   ]
  },
  {
   "cell_type": "markdown",
   "id": "144f31ab",
   "metadata": {
    "id": "47C64z8w5BCv",
    "papermill": {
     "duration": 0.037936,
     "end_time": "2024-04-05T09:35:42.396152",
     "exception": false,
     "start_time": "2024-04-05T09:35:42.358216",
     "status": "completed"
    },
    "tags": []
   },
   "source": [
    "### Plot total number of sales in terms of year and month"
   ]
  },
  {
   "cell_type": "code",
   "execution_count": 22,
   "id": "676be369",
   "metadata": {
    "execution": {
     "iopub.execute_input": "2024-04-05T09:35:42.473544Z",
     "iopub.status.busy": "2024-04-05T09:35:42.473154Z",
     "iopub.status.idle": "2024-04-05T09:35:42.490066Z",
     "shell.execute_reply": "2024-04-05T09:35:42.489095Z"
    },
    "id": "u-8Ks7Rh5kyW",
    "papermill": {
     "duration": 0.058561,
     "end_time": "2024-04-05T09:35:42.492504",
     "exception": false,
     "start_time": "2024-04-05T09:35:42.433943",
     "status": "completed"
    },
    "tags": []
   },
   "outputs": [],
   "source": [
    "year_df = df_temp['saleYear'].value_counts().reset_index()\n",
    "year_df.columns = ['Sale Year', 'Total number of sales']\n",
    "\n",
    "month_df = df_temp['saleMonth'].value_counts().reset_index()\n",
    "month_df.columns = ['Sale Month', 'Total number of sales']\n",
    "month_df.sort_values('Sale Month', inplace=True)\n",
    "month_df['Sale Month'] = month_df['Sale Month'].apply(lambda x: dt.date(2024, x, 1).strftime(\"%b\"))"
   ]
  },
  {
   "cell_type": "code",
   "execution_count": 23,
   "id": "f6f2b6bb",
   "metadata": {
    "execution": {
     "iopub.execute_input": "2024-04-05T09:35:42.570017Z",
     "iopub.status.busy": "2024-04-05T09:35:42.569294Z",
     "iopub.status.idle": "2024-04-05T09:35:43.179009Z",
     "shell.execute_reply": "2024-04-05T09:35:43.177697Z"
    },
    "id": "VJy1jB_35KrC",
    "outputId": "0dde6380-eec3-4243-c561-b118b406bec5",
    "papermill": {
     "duration": 0.651727,
     "end_time": "2024-04-05T09:35:43.181919",
     "exception": false,
     "start_time": "2024-04-05T09:35:42.530192",
     "status": "completed"
    },
    "tags": []
   },
   "outputs": [
    {
     "data": {
      "image/png": "[encoded data removed]",
      "text/plain": [
       "<Figure size 1200x400 with 2 Axes>"
      ]
     },
     "metadata": {},
     "output_type": "display_data"
    }
   ],
   "source": [
    "fig, (year_ax, month_ax) = plt.subplots(nrows=1, ncols=2, figsize=(12,4), sharey=True)\n",
    "\n",
    "year_ax.bar(year_df['Sale Year'], year_df['Total number of sales'])\n",
    "year_ax.set_title(\"Year\")\n",
    "year_ax.set_xlabel(\"Year\")\n",
    "year_ax.set_ylabel(\"Total number of sales\")\n",
    "\n",
    "month_ax.bar(month_df['Sale Month'], month_df['Total number of sales'])\n",
    "month_ax.set_title(\"Month\")\n",
    "month_ax.set_xlabel(\"Month\")\n",
    "\n",
    "fig.suptitle('Total Number of sale by year and month', fontsize=16, fontweight='bold', y=1.05);"
   ]
  },
  {
   "cell_type": "markdown",
   "id": "06180589",
   "metadata": {
    "id": "tDvnRc2a5Gty",
    "papermill": {
     "duration": 0.038266,
     "end_time": "2024-04-05T09:35:43.259206",
     "exception": false,
     "start_time": "2024-04-05T09:35:43.220940",
     "status": "completed"
    },
    "tags": []
   },
   "source": [
    "- 2008 and 2009 are top 2 years which see maximum number of sales.\n",
    "- February and March are top months in terms of number of sales."
   ]
  },
  {
   "cell_type": "markdown",
   "id": "37f61526",
   "metadata": {
    "id": "awGonsxvYZiO",
    "papermill": {
     "duration": 0.038513,
     "end_time": "2024-04-05T09:35:43.336016",
     "exception": false,
     "start_time": "2024-04-05T09:35:43.297503",
     "status": "completed"
    },
    "tags": []
   },
   "source": [
    "## Data Preparation and Preprocessing"
   ]
  },
  {
   "cell_type": "markdown",
   "id": "705cdc6c",
   "metadata": {
    "id": "Jeq0BdeRvvwc",
    "papermill": {
     "duration": 0.038134,
     "end_time": "2024-04-05T09:35:43.412731",
     "exception": false,
     "start_time": "2024-04-05T09:35:43.374597",
     "status": "completed"
    },
    "tags": []
   },
   "source": [
    "### Find and Fill missing value in numeric colums"
   ]
  },
  {
   "cell_type": "markdown",
   "id": "caeb64ab",
   "metadata": {
    "id": "iEnXyHDJkNB8",
    "papermill": {
     "duration": 0.037887,
     "end_time": "2024-04-05T09:35:43.489266",
     "exception": false,
     "start_time": "2024-04-05T09:35:43.451379",
     "status": "completed"
    },
    "tags": []
   },
   "source": [
    "#### Find columns whose type is numeric."
   ]
  },
  {
   "cell_type": "code",
   "execution_count": 24,
   "id": "2e399475",
   "metadata": {
    "execution": {
     "iopub.execute_input": "2024-04-05T09:35:43.568142Z",
     "iopub.status.busy": "2024-04-05T09:35:43.567012Z",
     "iopub.status.idle": "2024-04-05T09:35:43.584192Z",
     "shell.execute_reply": "2024-04-05T09:35:43.582954Z"
    },
    "id": "nYW86A9HwRGp",
    "outputId": "4fb232b5-5218-479b-f56d-9952e68cb9d2",
    "papermill": {
     "duration": 0.059453,
     "end_time": "2024-04-05T09:35:43.586854",
     "exception": false,
     "start_time": "2024-04-05T09:35:43.527401",
     "status": "completed"
    },
    "tags": []
   },
   "outputs": [
    {
     "name": "stdout",
     "output_type": "stream",
     "text": [
      "auctioneerID\n",
      "MachineHoursCurrentMeter\n"
     ]
    }
   ],
   "source": [
    "for col in df_temp.columns:\n",
    "  if pd.api.types.is_numeric_dtype(df_temp[col]):\n",
    "    if df_temp[col].isna().sum():\n",
    "      print(col)"
   ]
  },
  {
   "cell_type": "markdown",
   "id": "6ea047f7",
   "metadata": {
    "id": "gywKjEAw1Kpw",
    "papermill": {
     "duration": 0.038965,
     "end_time": "2024-04-05T09:35:43.664523",
     "exception": false,
     "start_time": "2024-04-05T09:35:43.625558",
     "status": "completed"
    },
    "tags": []
   },
   "source": [
    "`auctioneerID` and `MachineHoursCurrentMeter` are the numerical columns which have null value.\n",
    "\n",
    "Now fill the null values, But with what value?"
   ]
  },
  {
   "cell_type": "code",
   "execution_count": 25,
   "id": "e57822e1",
   "metadata": {
    "execution": {
     "iopub.execute_input": "2024-04-05T09:35:43.743651Z",
     "iopub.status.busy": "2024-04-05T09:35:43.742740Z",
     "iopub.status.idle": "2024-04-05T09:35:43.770458Z",
     "shell.execute_reply": "2024-04-05T09:35:43.769209Z"
    },
    "id": "ENILLVuT1sAv",
    "outputId": "9f5624b9-891c-40e5-f077-365eab43878c",
    "papermill": {
     "duration": 0.070193,
     "end_time": "2024-04-05T09:35:43.773209",
     "exception": false,
     "start_time": "2024-04-05T09:35:43.703016",
     "status": "completed"
    },
    "tags": []
   },
   "outputs": [
    {
     "data": {
      "text/plain": [
       "count    392562.000000\n",
       "mean          6.585268\n",
       "std          17.158409\n",
       "min           0.000000\n",
       "25%           1.000000\n",
       "50%           2.000000\n",
       "75%           4.000000\n",
       "max          99.000000\n",
       "Name: auctioneerID, dtype: float64"
      ]
     },
     "execution_count": 25,
     "metadata": {},
     "output_type": "execute_result"
    }
   ],
   "source": [
    "df_temp['auctioneerID'].describe()"
   ]
  },
  {
   "cell_type": "code",
   "execution_count": 26,
   "id": "f1733b94",
   "metadata": {
    "execution": {
     "iopub.execute_input": "2024-04-05T09:35:43.853765Z",
     "iopub.status.busy": "2024-04-05T09:35:43.853403Z",
     "iopub.status.idle": "2024-04-05T09:35:44.670673Z",
     "shell.execute_reply": "2024-04-05T09:35:44.669805Z"
    },
    "id": "CcbCD8Es1m1Y",
    "outputId": "5bd88396-bf54-4de7-c006-0db1915e7459",
    "papermill": {
     "duration": 0.859804,
     "end_time": "2024-04-05T09:35:44.672892",
     "exception": false,
     "start_time": "2024-04-05T09:35:43.813088",
     "status": "completed"
    },
    "tags": []
   },
   "outputs": [
    {
     "data": {
      "image/png": "[encoded data removed]",
      "text/plain": [
       "<Figure size 800x550 with 1 Axes>"
      ]
     },
     "metadata": {},
     "output_type": "display_data"
    }
   ],
   "source": [
    "sns.histplot(data = df_temp['auctioneerID'], bins=10);"
   ]
  },
  {
   "cell_type": "markdown",
   "id": "edf4d268",
   "metadata": {
    "id": "RvrQX_OYktkI",
    "papermill": {
     "duration": 0.03868,
     "end_time": "2024-04-05T09:35:44.750558",
     "exception": false,
     "start_time": "2024-04-05T09:35:44.711878",
     "status": "completed"
    },
    "tags": []
   },
   "source": [
    "**Observation : Above auctioneerID is right skewed distribution.**\n",
    "\n",
    "Hence median will be good to go because mean are sensitive to outliers"
   ]
  },
  {
   "cell_type": "code",
   "execution_count": 27,
   "id": "2d76f43e",
   "metadata": {
    "execution": {
     "iopub.execute_input": "2024-04-05T09:35:44.832381Z",
     "iopub.status.busy": "2024-04-05T09:35:44.831465Z",
     "iopub.status.idle": "2024-04-05T09:35:44.861512Z",
     "shell.execute_reply": "2024-04-05T09:35:44.860342Z"
    },
    "id": "bPV7IV0j3tWN",
    "outputId": "5c2b0966-e616-46f0-fd95-4126e36bf94d",
    "papermill": {
     "duration": 0.074548,
     "end_time": "2024-04-05T09:35:44.864116",
     "exception": false,
     "start_time": "2024-04-05T09:35:44.789568",
     "status": "completed"
    },
    "tags": []
   },
   "outputs": [
    {
     "data": {
      "text/plain": [
       "count    1.475040e+05\n",
       "mean     3.522988e+03\n",
       "std      2.716993e+04\n",
       "min      0.000000e+00\n",
       "25%      0.000000e+00\n",
       "50%      0.000000e+00\n",
       "75%      3.209000e+03\n",
       "max      2.483300e+06\n",
       "Name: MachineHoursCurrentMeter, dtype: float64"
      ]
     },
     "execution_count": 27,
     "metadata": {},
     "output_type": "execute_result"
    }
   ],
   "source": [
    "df_temp['MachineHoursCurrentMeter'].describe()"
   ]
  },
  {
   "cell_type": "code",
   "execution_count": 28,
   "id": "31c49ef7",
   "metadata": {
    "execution": {
     "iopub.execute_input": "2024-04-05T09:35:44.944737Z",
     "iopub.status.busy": "2024-04-05T09:35:44.944354Z",
     "iopub.status.idle": "2024-04-05T09:35:45.736617Z",
     "shell.execute_reply": "2024-04-05T09:35:45.735406Z"
    },
    "id": "leWIXxO84K9N",
    "outputId": "954287b3-79d2-41c6-e49a-8c02fb7d4ed7",
    "papermill": {
     "duration": 0.835746,
     "end_time": "2024-04-05T09:35:45.739074",
     "exception": false,
     "start_time": "2024-04-05T09:35:44.903328",
     "status": "completed"
    },
    "tags": []
   },
   "outputs": [
    {
     "data": {
      "image/png": "[encoded data removed]",
      "text/plain": [
       "<Figure size 800x550 with 1 Axes>"
      ]
     },
     "metadata": {},
     "output_type": "display_data"
    }
   ],
   "source": [
    "sns.histplot(df_temp['MachineHoursCurrentMeter'], bins=10);"
   ]
  },
  {
   "cell_type": "markdown",
   "id": "6f3a9ca5",
   "metadata": {
    "id": "SH5igaiL5-W8",
    "papermill": {
     "duration": 0.039809,
     "end_time": "2024-04-05T09:35:45.819296",
     "exception": false,
     "start_time": "2024-04-05T09:35:45.779487",
     "status": "completed"
    },
    "tags": []
   },
   "source": [
    "#### Fill missing value with median"
   ]
  },
  {
   "cell_type": "code",
   "execution_count": 29,
   "id": "5bb18416",
   "metadata": {
    "execution": {
     "iopub.execute_input": "2024-04-05T09:35:45.902475Z",
     "iopub.status.busy": "2024-04-05T09:35:45.901482Z",
     "iopub.status.idle": "2024-04-05T09:35:45.933103Z",
     "shell.execute_reply": "2024-04-05T09:35:45.931885Z"
    },
    "id": "X1Qf5JSJLyJA",
    "papermill": {
     "duration": 0.075655,
     "end_time": "2024-04-05T09:35:45.935765",
     "exception": false,
     "start_time": "2024-04-05T09:35:45.860110",
     "status": "completed"
    },
    "tags": []
   },
   "outputs": [],
   "source": [
    "for col in df_temp.columns:\n",
    "  if pd.api.types.is_numeric_dtype(df_temp[col]):\n",
    "    if df_temp[col].isna().sum():\n",
    "      # add a column which tell if data is missing or not\n",
    "      df_temp[col+'_is_missing'] = df_temp[col].isna()\n",
    "      df_temp[col].fillna(df_temp[col].median(), inplace=True)"
   ]
  },
  {
   "cell_type": "code",
   "execution_count": 30,
   "id": "a9e21798",
   "metadata": {
    "execution": {
     "iopub.execute_input": "2024-04-05T09:35:46.018112Z",
     "iopub.status.busy": "2024-04-05T09:35:46.017712Z",
     "iopub.status.idle": "2024-04-05T09:35:46.032491Z",
     "shell.execute_reply": "2024-04-05T09:35:46.031431Z"
    },
    "id": "ImcVYBhbL2w_",
    "papermill": {
     "duration": 0.05894,
     "end_time": "2024-04-05T09:35:46.034955",
     "exception": false,
     "start_time": "2024-04-05T09:35:45.976015",
     "status": "completed"
    },
    "tags": []
   },
   "outputs": [],
   "source": [
    "for col in df_temp.columns:\n",
    "  if pd.api.types.is_numeric_dtype(df_temp[col]):\n",
    "    if df_temp[col].isna().sum():\n",
    "      print(col)"
   ]
  },
  {
   "cell_type": "markdown",
   "id": "e5f0e364",
   "metadata": {
    "id": "Tb0WcDi0MMg5",
    "papermill": {
     "duration": 0.039682,
     "end_time": "2024-04-05T09:35:46.114663",
     "exception": false,
     "start_time": "2024-04-05T09:35:46.074981",
     "status": "completed"
    },
    "tags": []
   },
   "source": [
    "Above loop doesn't print anything. Hence no numeric column has null value"
   ]
  },
  {
   "cell_type": "markdown",
   "id": "04a40953",
   "metadata": {
    "id": "kTu2xVeYN5IW",
    "papermill": {
     "duration": 0.040805,
     "end_time": "2024-04-05T09:35:46.195875",
     "exception": false,
     "start_time": "2024-04-05T09:35:46.155070",
     "status": "completed"
    },
    "tags": []
   },
   "source": [
    "### Find and Fill the categorical columns"
   ]
  },
  {
   "cell_type": "markdown",
   "id": "f3a95836",
   "metadata": {
    "id": "ytj5h0BMlW_2",
    "papermill": {
     "duration": 0.040156,
     "end_time": "2024-04-05T09:35:46.275864",
     "exception": false,
     "start_time": "2024-04-05T09:35:46.235708",
     "status": "completed"
    },
    "tags": []
   },
   "source": [
    "#### Find columns whose type is object\n",
    "Here I am filling values by converting to `category` type and use `codes` property to fill the value"
   ]
  },
  {
   "cell_type": "code",
   "execution_count": 31,
   "id": "fcb7adea",
   "metadata": {
    "execution": {
     "iopub.execute_input": "2024-04-05T09:35:46.357982Z",
     "iopub.status.busy": "2024-04-05T09:35:46.356868Z",
     "iopub.status.idle": "2024-04-05T09:35:48.534864Z",
     "shell.execute_reply": "2024-04-05T09:35:48.533662Z"
    },
    "id": "tXdVI7ELODDo",
    "papermill": {
     "duration": 2.221822,
     "end_time": "2024-04-05T09:35:48.537842",
     "exception": false,
     "start_time": "2024-04-05T09:35:46.316020",
     "status": "completed"
    },
    "tags": []
   },
   "outputs": [],
   "source": [
    "for col in df_temp.columns:\n",
    "  if pd.api.types.is_object_dtype(df_temp[col]):\n",
    "    df_temp[col] = df_temp[col].astype('category')"
   ]
  },
  {
   "cell_type": "markdown",
   "id": "6e5f8100",
   "metadata": {
    "id": "f_6GPKcZPl5v",
    "papermill": {
     "duration": 0.040549,
     "end_time": "2024-04-05T09:35:48.619663",
     "exception": false,
     "start_time": "2024-04-05T09:35:48.579114",
     "status": "completed"
    },
    "tags": []
   },
   "source": [
    "#### Now fill the null values.\n"
   ]
  },
  {
   "cell_type": "code",
   "execution_count": 32,
   "id": "78df6743",
   "metadata": {
    "execution": {
     "iopub.execute_input": "2024-04-05T09:35:48.701940Z",
     "iopub.status.busy": "2024-04-05T09:35:48.701545Z",
     "iopub.status.idle": "2024-04-05T09:35:48.761162Z",
     "shell.execute_reply": "2024-04-05T09:35:48.760015Z"
    },
    "id": "btCr4ZDEr8Ks",
    "papermill": {
     "duration": 0.103965,
     "end_time": "2024-04-05T09:35:48.763889",
     "exception": false,
     "start_time": "2024-04-05T09:35:48.659924",
     "status": "completed"
    },
    "tags": []
   },
   "outputs": [],
   "source": [
    "for col in df_temp.columns:\n",
    "  if pd.api.types.is_categorical_dtype(df_temp[col]):\n",
    "    df_temp[col+'_is_missing'] = df_temp[col].isna()\n",
    "    df_temp[col] = df_temp[col].cat.codes+1"
   ]
  },
  {
   "cell_type": "code",
   "execution_count": 33,
   "id": "c207e56e",
   "metadata": {
    "execution": {
     "iopub.execute_input": "2024-04-05T09:35:48.847089Z",
     "iopub.status.busy": "2024-04-05T09:35:48.846684Z",
     "iopub.status.idle": "2024-04-05T09:35:48.924480Z",
     "shell.execute_reply": "2024-04-05T09:35:48.923417Z"
    },
    "id": "-Op8nS972oqt",
    "outputId": "26cf44d1-b103-47f0-928d-fe90be375909",
    "papermill": {
     "duration": 0.122945,
     "end_time": "2024-04-05T09:35:48.927090",
     "exception": false,
     "start_time": "2024-04-05T09:35:48.804145",
     "status": "completed"
    },
    "tags": []
   },
   "outputs": [
    {
     "data": {
      "text/plain": [
       "SalesID                         0\n",
       "SalePrice                       0\n",
       "MachineID                       0\n",
       "ModelID                         0\n",
       "datasource                      0\n",
       "                               ..\n",
       "Backhoe_Mounting_is_missing     0\n",
       "Blade_Type_is_missing           0\n",
       "Travel_Controls_is_missing      0\n",
       "Differential_Type_is_missing    0\n",
       "Steering_Controls_is_missing    0\n",
       "Length: 103, dtype: int64"
      ]
     },
     "execution_count": 33,
     "metadata": {},
     "output_type": "execute_result"
    }
   ],
   "source": [
    "df_temp.isna().sum()"
   ]
  },
  {
   "cell_type": "markdown",
   "id": "5b6c9aa9",
   "metadata": {
    "id": "2IX3LwZl2sGW",
    "papermill": {
     "duration": 0.03983,
     "end_time": "2024-04-05T09:35:49.007271",
     "exception": false,
     "start_time": "2024-04-05T09:35:48.967441",
     "status": "completed"
    },
    "tags": []
   },
   "source": [
    "No null value present. Move forward for fitting the model"
   ]
  },
  {
   "cell_type": "code",
   "execution_count": 34,
   "id": "9a759e07",
   "metadata": {
    "execution": {
     "iopub.execute_input": "2024-04-05T09:35:49.089438Z",
     "iopub.status.busy": "2024-04-05T09:35:49.089050Z",
     "iopub.status.idle": "2024-04-05T09:35:49.104691Z",
     "shell.execute_reply": "2024-04-05T09:35:49.103551Z"
    },
    "id": "G6Ru_5pwEOET",
    "outputId": "bb2d63ad-5e35-4b58-fb62-f3196a7d1830",
    "papermill": {
     "duration": 0.060109,
     "end_time": "2024-04-05T09:35:49.107458",
     "exception": false,
     "start_time": "2024-04-05T09:35:49.047349",
     "status": "completed"
    },
    "tags": []
   },
   "outputs": [
    {
     "name": "stdout",
     "output_type": "stream",
     "text": [
      "<class 'pandas.core.frame.DataFrame'>\n",
      "Index: 412698 entries, 205615 to 409203\n",
      "Columns: 103 entries, SalesID to Steering_Controls_is_missing\n",
      "dtypes: bool(46), float64(3), int16(4), int32(5), int64(5), int8(40)\n",
      "memory usage: 73.2 MB\n"
     ]
    }
   ],
   "source": [
    "df_temp.info()"
   ]
  },
  {
   "cell_type": "markdown",
   "id": "ce5a63be",
   "metadata": {
    "id": "VsrqSkWF23IR",
    "papermill": {
     "duration": 0.04451,
     "end_time": "2024-04-05T09:35:49.192476",
     "exception": false,
     "start_time": "2024-04-05T09:35:49.147966",
     "status": "completed"
    },
    "tags": []
   },
   "source": [
    "## Model Fitting"
   ]
  },
  {
   "cell_type": "code",
   "execution_count": 35,
   "id": "ebf33c9d",
   "metadata": {
    "execution": {
     "iopub.execute_input": "2024-04-05T09:35:49.274481Z",
     "iopub.status.busy": "2024-04-05T09:35:49.273726Z",
     "iopub.status.idle": "2024-04-05T09:35:49.783285Z",
     "shell.execute_reply": "2024-04-05T09:35:49.782105Z"
    },
    "id": "123cVBu69Fdb",
    "papermill": {
     "duration": 0.55345,
     "end_time": "2024-04-05T09:35:49.785989",
     "exception": false,
     "start_time": "2024-04-05T09:35:49.232539",
     "status": "completed"
    },
    "tags": []
   },
   "outputs": [],
   "source": [
    "from sklearn.linear_model import Ridge, Lasso, ElasticNet\n",
    "from sklearn.ensemble import RandomForestRegressor\n",
    "from sklearn.metrics import mean_absolute_error, mean_squared_log_error, r2_score\n",
    "\n",
    "from sklearn.model_selection import RandomizedSearchCV, GridSearchCV"
   ]
  },
  {
   "cell_type": "markdown",
   "id": "2f33a232",
   "metadata": {
    "id": "XdKkg-S5mPQU",
    "papermill": {
     "duration": 0.040564,
     "end_time": "2024-04-05T09:35:49.866755",
     "exception": false,
     "start_time": "2024-04-05T09:35:49.826191",
     "status": "completed"
    },
    "tags": []
   },
   "source": [
    "#### Extract validation set from dataset"
   ]
  },
  {
   "cell_type": "code",
   "execution_count": 36,
   "id": "8deff325",
   "metadata": {
    "execution": {
     "iopub.execute_input": "2024-04-05T09:35:49.949595Z",
     "iopub.status.busy": "2024-04-05T09:35:49.949199Z",
     "iopub.status.idle": "2024-04-05T09:35:50.208473Z",
     "shell.execute_reply": "2024-04-05T09:35:50.207395Z"
    },
    "id": "Ju0SQIWZAO8C",
    "outputId": "33d99576-6816-4826-9186-3449a21a4e22",
    "papermill": {
     "duration": 0.304664,
     "end_time": "2024-04-05T09:35:50.211326",
     "exception": false,
     "start_time": "2024-04-05T09:35:49.906662",
     "status": "completed"
    },
    "tags": []
   },
   "outputs": [],
   "source": [
    "train_df, valid_df = df_temp[df_temp['saleYear'] != 2012], df_temp[df_temp['saleYear'] == 2012]"
   ]
  },
  {
   "cell_type": "markdown",
   "id": "bbf0dab3",
   "metadata": {
    "id": "9ldKuP--mYJM",
    "papermill": {
     "duration": 0.042018,
     "end_time": "2024-04-05T09:35:50.293962",
     "exception": false,
     "start_time": "2024-04-05T09:35:50.251944",
     "status": "completed"
    },
    "tags": []
   },
   "source": [
    "#### Extract training and testing data."
   ]
  },
  {
   "cell_type": "code",
   "execution_count": 37,
   "id": "84f53d0a",
   "metadata": {
    "execution": {
     "iopub.execute_input": "2024-04-05T09:35:50.376795Z",
     "iopub.status.busy": "2024-04-05T09:35:50.375976Z",
     "iopub.status.idle": "2024-04-05T09:35:50.570505Z",
     "shell.execute_reply": "2024-04-05T09:35:50.569337Z"
    },
    "id": "uA08yC959Qta",
    "papermill": {
     "duration": 0.239292,
     "end_time": "2024-04-05T09:35:50.573474",
     "exception": false,
     "start_time": "2024-04-05T09:35:50.334182",
     "status": "completed"
    },
    "tags": []
   },
   "outputs": [],
   "source": [
    "X_train, y_train = train_df.drop(['SalePrice'], axis=1), train_df['SalePrice']\n",
    "X_valid, y_valid = valid_df.drop(['SalePrice'], axis=1), valid_df['SalePrice']"
   ]
  },
  {
   "cell_type": "code",
   "execution_count": 38,
   "id": "7c960625",
   "metadata": {
    "execution": {
     "iopub.execute_input": "2024-04-05T09:35:50.655954Z",
     "iopub.status.busy": "2024-04-05T09:35:50.655286Z",
     "iopub.status.idle": "2024-04-05T09:35:50.661629Z",
     "shell.execute_reply": "2024-04-05T09:35:50.660665Z"
    },
    "id": "TAAmz5dR_Iu0",
    "outputId": "7f9d213b-7b22-4ea5-a4bb-7ca170600bc5",
    "papermill": {
     "duration": 0.050537,
     "end_time": "2024-04-05T09:35:50.663762",
     "exception": false,
     "start_time": "2024-04-05T09:35:50.613225",
     "status": "completed"
    },
    "tags": []
   },
   "outputs": [
    {
     "data": {
      "text/plain": [
       "((401125, 102), (401125,), (11573, 102), (11573,))"
      ]
     },
     "execution_count": 38,
     "metadata": {},
     "output_type": "execute_result"
    }
   ],
   "source": [
    "X_train.shape, y_train.shape, X_valid.shape, y_valid.shape"
   ]
  },
  {
   "cell_type": "markdown",
   "id": "3128ded0",
   "metadata": {
    "id": "BNe7tqODQanh",
    "papermill": {
     "duration": 0.039723,
     "end_time": "2024-04-05T09:35:50.743460",
     "exception": false,
     "start_time": "2024-04-05T09:35:50.703737",
     "status": "completed"
    },
    "tags": []
   },
   "source": [
    "### Model dictionary"
   ]
  },
  {
   "cell_type": "code",
   "execution_count": 39,
   "id": "6cc85b5d",
   "metadata": {
    "execution": {
     "iopub.execute_input": "2024-04-05T09:35:50.825731Z",
     "iopub.status.busy": "2024-04-05T09:35:50.825312Z",
     "iopub.status.idle": "2024-04-05T09:35:50.830766Z",
     "shell.execute_reply": "2024-04-05T09:35:50.829750Z"
    },
    "id": "B5uQfmxJQf2q",
    "papermill": {
     "duration": 0.050185,
     "end_time": "2024-04-05T09:35:50.833868",
     "exception": false,
     "start_time": "2024-04-05T09:35:50.783683",
     "status": "completed"
    },
    "tags": []
   },
   "outputs": [],
   "source": [
    "baseline_models = {\n",
    "    'ridge': Ridge(max_iter=2000),\n",
    "    'lasso': Lasso(),\n",
    "    'elasticnet': ElasticNet(max_iter=2000),\n",
    "    'rfr': RandomForestRegressor(max_samples=10000)\n",
    "}"
   ]
  },
  {
   "cell_type": "markdown",
   "id": "039a6ac4",
   "metadata": {
    "id": "7Ym3Zqpxm72V",
    "papermill": {
     "duration": 0.040701,
     "end_time": "2024-04-05T09:35:50.915410",
     "exception": false,
     "start_time": "2024-04-05T09:35:50.874709",
     "status": "completed"
    },
    "tags": []
   },
   "source": [
    "### Evaluation metric function"
   ]
  },
  {
   "cell_type": "code",
   "execution_count": 40,
   "id": "81a287fe",
   "metadata": {
    "execution": {
     "iopub.execute_input": "2024-04-05T09:35:50.998348Z",
     "iopub.status.busy": "2024-04-05T09:35:50.997944Z",
     "iopub.status.idle": "2024-04-05T09:35:51.004842Z",
     "shell.execute_reply": "2024-04-05T09:35:51.003737Z"
    },
    "id": "xEnyDgg7RV5g",
    "papermill": {
     "duration": 0.051263,
     "end_time": "2024-04-05T09:35:51.007439",
     "exception": false,
     "start_time": "2024-04-05T09:35:50.956176",
     "status": "completed"
    },
    "tags": []
   },
   "outputs": [],
   "source": [
    "def rmsle(y_valid, val_preds):\n",
    "  return np.sqrt(mean_squared_log_error(y_valid, val_preds))\n",
    "\n",
    "\n",
    "def evaluate_scores(model):\n",
    "  val_preds = model.predict(X_valid)\n",
    "  val_preds = np.abs(val_preds)\n",
    "\n",
    "  model_scores = {\n",
    "      'R2_Score' : r2_score(y_valid, val_preds),\n",
    "      'MSLE' : mean_squared_log_error(y_valid, val_preds),\n",
    "      'RMSLE' : rmsle(y_valid, val_preds),\n",
    "      'MAE' : mean_absolute_error(y_valid, val_preds),\n",
    "  }\n",
    "  return model_scores"
   ]
  },
  {
   "cell_type": "markdown",
   "id": "83cceaa6",
   "metadata": {
    "id": "vZ2dysgLnFuP",
    "papermill": {
     "duration": 0.042901,
     "end_time": "2024-04-05T09:35:51.090627",
     "exception": false,
     "start_time": "2024-04-05T09:35:51.047726",
     "status": "completed"
    },
    "tags": []
   },
   "source": [
    "### Fit baseline models."
   ]
  },
  {
   "cell_type": "code",
   "execution_count": 41,
   "id": "82286829",
   "metadata": {
    "execution": {
     "iopub.execute_input": "2024-04-05T09:35:51.173214Z",
     "iopub.status.busy": "2024-04-05T09:35:51.172493Z",
     "iopub.status.idle": "2024-04-05T09:38:58.476421Z",
     "shell.execute_reply": "2024-04-05T09:38:58.474946Z"
    },
    "id": "fGHExi66VHXk",
    "outputId": "1a935e3e-779b-4e81-ec73-c47fa16897e6",
    "papermill": {
     "duration": 187.384924,
     "end_time": "2024-04-05T09:38:58.515801",
     "exception": false,
     "start_time": "2024-04-05T09:35:51.130877",
     "status": "completed"
    },
    "tags": []
   },
   "outputs": [
    {
     "name": "stdout",
     "output_type": "stream",
     "text": [
      "CPU times: user 9min 59s, sys: 34 s, total: 10min 33s\n",
      "Wall time: 3min 7s\n"
     ]
    }
   ],
   "source": [
    "%%time\n",
    "baseline_score = {}\n",
    "\n",
    "for model_name, model in baseline_models.items():\n",
    "  model = model.fit(X_train, y_train)\n",
    "  scores = evaluate_scores(model)\n",
    "  baseline_score[model_name] = scores"
   ]
  },
  {
   "cell_type": "code",
   "execution_count": 42,
   "id": "ffcdc39a",
   "metadata": {
    "execution": {
     "iopub.execute_input": "2024-04-05T09:38:58.598195Z",
     "iopub.status.busy": "2024-04-05T09:38:58.597742Z",
     "iopub.status.idle": "2024-04-05T09:38:58.611659Z",
     "shell.execute_reply": "2024-04-05T09:38:58.610580Z"
    },
    "id": "9sE17GUQZQgE",
    "outputId": "fdea8256-24c3-485c-998f-e4d784620795",
    "papermill": {
     "duration": 0.057929,
     "end_time": "2024-04-05T09:38:58.613857",
     "exception": false,
     "start_time": "2024-04-05T09:38:58.555928",
     "status": "completed"
    },
    "tags": []
   },
   "outputs": [
    {
     "data": {
      "text/html": [
       "<div>\n",
       "<style scoped>\n",
       "    .dataframe tbody tr th:only-of-type {\n",
       "        vertical-align: middle;\n",
       "    }\n",
       "\n",
       "    .dataframe tbody tr th {\n",
       "        vertical-align: top;\n",
       "    }\n",
       "\n",
       "    .dataframe thead th {\n",
       "        text-align: right;\n",
       "    }\n",
       "</style>\n",
       "<table border=\"1\" class=\"dataframe\">\n",
       "  <thead>\n",
       "    <tr style=\"text-align: right;\">\n",
       "      <th></th>\n",
       "      <th>ridge</th>\n",
       "      <th>lasso</th>\n",
       "      <th>elasticnet</th>\n",
       "      <th>rfr</th>\n",
       "    </tr>\n",
       "  </thead>\n",
       "  <tbody>\n",
       "    <tr>\n",
       "      <th>R2_Score</th>\n",
       "      <td>0.547113</td>\n",
       "      <td>0.544358</td>\n",
       "      <td>0.413598</td>\n",
       "      <td>0.838456</td>\n",
       "    </tr>\n",
       "    <tr>\n",
       "      <th>MSLE</th>\n",
       "      <td>0.459364</td>\n",
       "      <td>0.474568</td>\n",
       "      <td>0.447102</td>\n",
       "      <td>0.082338</td>\n",
       "    </tr>\n",
       "    <tr>\n",
       "      <th>RMSLE</th>\n",
       "      <td>0.677764</td>\n",
       "      <td>0.688889</td>\n",
       "      <td>0.668657</td>\n",
       "      <td>0.286945</td>\n",
       "    </tr>\n",
       "    <tr>\n",
       "      <th>MAE</th>\n",
       "      <td>12556.034601</td>\n",
       "      <td>12589.016303</td>\n",
       "      <td>14233.555324</td>\n",
       "      <td>7033.773957</td>\n",
       "    </tr>\n",
       "  </tbody>\n",
       "</table>\n",
       "</div>"
      ],
      "text/plain": [
       "                 ridge         lasso    elasticnet          rfr\n",
       "R2_Score      0.547113      0.544358      0.413598     0.838456\n",
       "MSLE          0.459364      0.474568      0.447102     0.082338\n",
       "RMSLE         0.677764      0.688889      0.668657     0.286945\n",
       "MAE       12556.034601  12589.016303  14233.555324  7033.773957"
      ]
     },
     "execution_count": 42,
     "metadata": {},
     "output_type": "execute_result"
    }
   ],
   "source": [
    "basemodel_df = pd.DataFrame(baseline_score)\n",
    "basemodel_df"
   ]
  },
  {
   "cell_type": "markdown",
   "id": "4c8ce631",
   "metadata": {
    "id": "RxdRmRO7o6Cc",
    "papermill": {
     "duration": 0.040598,
     "end_time": "2024-04-05T09:38:58.694969",
     "exception": false,
     "start_time": "2024-04-05T09:38:58.654371",
     "status": "completed"
    },
    "tags": []
   },
   "source": [
    "Here `RandomForestRegressor` is doing far better than other 3 models.\n",
    "we can try to plot `RMSLE` (Root Mean Squared Log Error) and visuale the same result."
   ]
  },
  {
   "cell_type": "code",
   "execution_count": 43,
   "id": "12890778",
   "metadata": {
    "execution": {
     "iopub.execute_input": "2024-04-05T09:38:58.777795Z",
     "iopub.status.busy": "2024-04-05T09:38:58.777306Z",
     "iopub.status.idle": "2024-04-05T09:38:58.991364Z",
     "shell.execute_reply": "2024-04-05T09:38:58.990208Z"
    },
    "id": "MYZ7ACE5jOaQ",
    "outputId": "32357ffe-1544-4c30-ecf3-b21c566945c8",
    "papermill": {
     "duration": 0.258545,
     "end_time": "2024-04-05T09:38:58.994016",
     "exception": false,
     "start_time": "2024-04-05T09:38:58.735471",
     "status": "completed"
    },
    "tags": []
   },
   "outputs": [
    {
     "data": {
      "image/png": "[encoded data removed]",
      "text/plain": [
       "<Figure size 800x550 with 1 Axes>"
      ]
     },
     "metadata": {},
     "output_type": "display_data"
    }
   ],
   "source": [
    "basemodel_df.loc['RMSLE'].plot.bar();"
   ]
  },
  {
   "cell_type": "markdown",
   "id": "0a3db033",
   "metadata": {
    "id": "dG9DMBC9pe_U",
    "papermill": {
     "duration": 0.040804,
     "end_time": "2024-04-05T09:38:59.075901",
     "exception": false,
     "start_time": "2024-04-05T09:38:59.035097",
     "status": "completed"
    },
    "tags": []
   },
   "source": [
    "Hence move forward with rfr and apply R\n",
    "andomizedSearchCV and GridSearchCV"
   ]
  },
  {
   "cell_type": "code",
   "execution_count": 44,
   "id": "3094c226",
   "metadata": {
    "execution": {
     "iopub.execute_input": "2024-04-05T09:38:59.159435Z",
     "iopub.status.busy": "2024-04-05T09:38:59.158989Z",
     "iopub.status.idle": "2024-04-05T09:38:59.169517Z",
     "shell.execute_reply": "2024-04-05T09:38:59.168330Z"
    },
    "id": "E6jSUdDb_5Ou",
    "outputId": "79436177-d708-4685-d2d6-86c49fd44fec",
    "papermill": {
     "duration": 0.054861,
     "end_time": "2024-04-05T09:38:59.171584",
     "exception": false,
     "start_time": "2024-04-05T09:38:59.116723",
     "status": "completed"
    },
    "tags": []
   },
   "outputs": [
    {
     "data": {
      "text/html": [
       "<div>\n",
       "<style scoped>\n",
       "    .dataframe tbody tr th:only-of-type {\n",
       "        vertical-align: middle;\n",
       "    }\n",
       "\n",
       "    .dataframe tbody tr th {\n",
       "        vertical-align: top;\n",
       "    }\n",
       "\n",
       "    .dataframe thead th {\n",
       "        text-align: right;\n",
       "    }\n",
       "</style>\n",
       "<table border=\"1\" class=\"dataframe\">\n",
       "  <thead>\n",
       "    <tr style=\"text-align: right;\">\n",
       "      <th></th>\n",
       "      <th>rfr</th>\n",
       "    </tr>\n",
       "  </thead>\n",
       "  <tbody>\n",
       "    <tr>\n",
       "      <th>R2_Score</th>\n",
       "      <td>0.838456</td>\n",
       "    </tr>\n",
       "    <tr>\n",
       "      <th>MSLE</th>\n",
       "      <td>0.082338</td>\n",
       "    </tr>\n",
       "    <tr>\n",
       "      <th>RMSLE</th>\n",
       "      <td>0.286945</td>\n",
       "    </tr>\n",
       "    <tr>\n",
       "      <th>MAE</th>\n",
       "      <td>7033.773957</td>\n",
       "    </tr>\n",
       "  </tbody>\n",
       "</table>\n",
       "</div>"
      ],
      "text/plain": [
       "                  rfr\n",
       "R2_Score     0.838456\n",
       "MSLE         0.082338\n",
       "RMSLE        0.286945\n",
       "MAE       7033.773957"
      ]
     },
     "execution_count": 44,
     "metadata": {},
     "output_type": "execute_result"
    }
   ],
   "source": [
    "rfr_base_df = pd.DataFrame(basemodel_df['rfr'])\n",
    "rfr_base_df"
   ]
  },
  {
   "cell_type": "markdown",
   "id": "3f27b858",
   "metadata": {
    "id": "dE10WU0JnlLa",
    "papermill": {
     "duration": 0.040632,
     "end_time": "2024-04-05T09:38:59.253037",
     "exception": false,
     "start_time": "2024-04-05T09:38:59.212405",
     "status": "completed"
    },
    "tags": []
   },
   "source": [
    "### RandomizedSearchCV"
   ]
  },
  {
   "cell_type": "code",
   "execution_count": 45,
   "id": "2ae55745",
   "metadata": {
    "execution": {
     "iopub.execute_input": "2024-04-05T09:38:59.336181Z",
     "iopub.status.busy": "2024-04-05T09:38:59.335792Z",
     "iopub.status.idle": "2024-04-05T09:40:51.813705Z",
     "shell.execute_reply": "2024-04-05T09:40:51.812619Z"
    },
    "id": "UuXbN8BlpqQl",
    "outputId": "c3d8c2f4-026f-4547-c139-9cb080a9490d",
    "papermill": {
     "duration": 112.564946,
     "end_time": "2024-04-05T09:40:51.858701",
     "exception": false,
     "start_time": "2024-04-05T09:38:59.293755",
     "status": "completed"
    },
    "tags": []
   },
   "outputs": [
    {
     "name": "stdout",
     "output_type": "stream",
     "text": [
      "CPU times: user 6min 6s, sys: 2.63 s, total: 6min 8s\n",
      "Wall time: 1min 52s\n"
     ]
    },
    {
     "data": {
      "text/html": [
       "<style>#sk-container-id-1 {color: black;background-color: white;}#sk-container-id-1 pre{padding: 0;}#sk-container-id-1 div.sk-toggleable {background-color: white;}#sk-container-id-1 label.sk-toggleable__label {cursor: pointer;display: block;width: 100%;margin-bottom: 0;padding: 0.3em;box-sizing: border-box;text-align: center;}#sk-container-id-1 label.sk-toggleable__label-arrow:before {content: \"▸\";float: left;margin-right: 0.25em;color: #696969;}#sk-container-id-1 label.sk-toggleable__label-arrow:hover:before {color: black;}#sk-container-id-1 div.sk-estimator:hover label.sk-toggleable__label-arrow:before {color: black;}#sk-container-id-1 div.sk-toggleable__content {max-height: 0;max-width: 0;overflow: hidden;text-align: left;background-color: #f0f8ff;}#sk-container-id-1 div.sk-toggleable__content pre {margin: 0.2em;color: black;border-radius: 0.25em;background-color: #f0f8ff;}#sk-container-id-1 input.sk-toggleable__control:checked~div.sk-toggleable__content {max-height: 200px;max-width: 100%;overflow: auto;}#sk-container-id-1 input.sk-toggleable__control:checked~label.sk-toggleable__label-arrow:before {content: \"▾\";}#sk-container-id-1 div.sk-estimator input.sk-toggleable__control:checked~label.sk-toggleable__label {background-color: #d4ebff;}#sk-container-id-1 div.sk-label input.sk-toggleable__control:checked~label.sk-toggleable__label {background-color: #d4ebff;}#sk-container-id-1 input.sk-hidden--visually {border: 0;clip: rect(1px 1px 1px 1px);clip: rect(1px, 1px, 1px, 1px);height: 1px;margin: -1px;overflow: hidden;padding: 0;position: absolute;width: 1px;}#sk-container-id-1 div.sk-estimator {font-family: monospace;background-color: #f0f8ff;border: 1px dotted black;border-radius: 0.25em;box-sizing: border-box;margin-bottom: 0.5em;}#sk-container-id-1 div.sk-estimator:hover {background-color: #d4ebff;}#sk-container-id-1 div.sk-parallel-item::after {content: \"\";width: 100%;border-bottom: 1px solid gray;flex-grow: 1;}#sk-container-id-1 div.sk-label:hover label.sk-toggleable__label {background-color: #d4ebff;}#sk-container-id-1 div.sk-serial::before {content: \"\";position: absolute;border-left: 1px solid gray;box-sizing: border-box;top: 0;bottom: 0;left: 50%;z-index: 0;}#sk-container-id-1 div.sk-serial {display: flex;flex-direction: column;align-items: center;background-color: white;padding-right: 0.2em;padding-left: 0.2em;position: relative;}#sk-container-id-1 div.sk-item {position: relative;z-index: 1;}#sk-container-id-1 div.sk-parallel {display: flex;align-items: stretch;justify-content: center;background-color: white;position: relative;}#sk-container-id-1 div.sk-item::before, #sk-container-id-1 div.sk-parallel-item::before {content: \"\";position: absolute;border-left: 1px solid gray;box-sizing: border-box;top: 0;bottom: 0;left: 50%;z-index: -1;}#sk-container-id-1 div.sk-parallel-item {display: flex;flex-direction: column;z-index: 1;position: relative;background-color: white;}#sk-container-id-1 div.sk-parallel-item:first-child::after {align-self: flex-end;width: 50%;}#sk-container-id-1 div.sk-parallel-item:last-child::after {align-self: flex-start;width: 50%;}#sk-container-id-1 div.sk-parallel-item:only-child::after {width: 0;}#sk-container-id-1 div.sk-dashed-wrapped {border: 1px dashed gray;margin: 0 0.4em 0.5em 0.4em;box-sizing: border-box;padding-bottom: 0.4em;background-color: white;}#sk-container-id-1 div.sk-label label {font-family: monospace;font-weight: bold;display: inline-block;line-height: 1.2em;}#sk-container-id-1 div.sk-label-container {text-align: center;}#sk-container-id-1 div.sk-container {/* jupyter's `normalize.less` sets `[hidden] { display: none; }` but bootstrap.min.css set `[hidden] { display: none !important; }` so we also need the `!important` here to be able to override the default hidden behavior on the sphinx rendered scikit-learn.org. See: https://github.com/scikit-learn/scikit-learn/issues/21755 */display: inline-block !important;position: relative;}#sk-container-id-1 div.sk-text-repr-fallback {display: none;}</style><div id=\"sk-container-id-1\" class=\"sk-top-container\"><div class=\"sk-text-repr-fallback\"><pre>RandomizedSearchCV(cv=5,\n",
       "                   estimator=RandomForestRegressor(n_jobs=-1, random_state=42),\n",
       "                   param_distributions={&#x27;max_depth&#x27;: [None, 3, 5, 10],\n",
       "                                        &#x27;max_features&#x27;: [0.5, 1, &#x27;sqrt&#x27;,\n",
       "                                                         &#x27;auto&#x27;],\n",
       "                                        &#x27;max_samples&#x27;: [10000],\n",
       "                                        &#x27;min_samples_leaf&#x27;: array([ 1,  3,  5,  7,  9, 11, 13, 15, 17, 19]),\n",
       "                                        &#x27;min_samples_split&#x27;: array([ 2,  4,  6,  8, 10, 12, 14, 16, 18]),\n",
       "                                        &#x27;n_estimators&#x27;: array([10, 20, 30, 40, 50, 60, 70, 80, 90])})</pre><b>In a Jupyter environment, please rerun this cell to show the HTML representation or trust the notebook. <br />On GitHub, the HTML representation is unable to render, please try loading this page with nbviewer.org.</b></div><div class=\"sk-container\" hidden><div class=\"sk-item sk-dashed-wrapped\"><div class=\"sk-label-container\"><div class=\"sk-label sk-toggleable\"><input class=\"sk-toggleable__control sk-hidden--visually\" id=\"sk-estimator-id-1\" type=\"checkbox\" ><label for=\"sk-estimator-id-1\" class=\"sk-toggleable__label sk-toggleable__label-arrow\">RandomizedSearchCV</label><div class=\"sk-toggleable__content\"><pre>RandomizedSearchCV(cv=5,\n",
       "                   estimator=RandomForestRegressor(n_jobs=-1, random_state=42),\n",
       "                   param_distributions={&#x27;max_depth&#x27;: [None, 3, 5, 10],\n",
       "                                        &#x27;max_features&#x27;: [0.5, 1, &#x27;sqrt&#x27;,\n",
       "                                                         &#x27;auto&#x27;],\n",
       "                                        &#x27;max_samples&#x27;: [10000],\n",
       "                                        &#x27;min_samples_leaf&#x27;: array([ 1,  3,  5,  7,  9, 11, 13, 15, 17, 19]),\n",
       "                                        &#x27;min_samples_split&#x27;: array([ 2,  4,  6,  8, 10, 12, 14, 16, 18]),\n",
       "                                        &#x27;n_estimators&#x27;: array([10, 20, 30, 40, 50, 60, 70, 80, 90])})</pre></div></div></div><div class=\"sk-parallel\"><div class=\"sk-parallel-item\"><div class=\"sk-item\"><div class=\"sk-label-container\"><div class=\"sk-label sk-toggleable\"><input class=\"sk-toggleable__control sk-hidden--visually\" id=\"sk-estimator-id-2\" type=\"checkbox\" ><label for=\"sk-estimator-id-2\" class=\"sk-toggleable__label sk-toggleable__label-arrow\">estimator: RandomForestRegressor</label><div class=\"sk-toggleable__content\"><pre>RandomForestRegressor(n_jobs=-1, random_state=42)</pre></div></div></div><div class=\"sk-serial\"><div class=\"sk-item\"><div class=\"sk-estimator sk-toggleable\"><input class=\"sk-toggleable__control sk-hidden--visually\" id=\"sk-estimator-id-3\" type=\"checkbox\" ><label for=\"sk-estimator-id-3\" class=\"sk-toggleable__label sk-toggleable__label-arrow\">RandomForestRegressor</label><div class=\"sk-toggleable__content\"><pre>RandomForestRegressor(n_jobs=-1, random_state=42)</pre></div></div></div></div></div></div></div></div></div></div>"
      ],
      "text/plain": [
       "RandomizedSearchCV(cv=5,\n",
       "                   estimator=RandomForestRegressor(n_jobs=-1, random_state=42),\n",
       "                   param_distributions={'max_depth': [None, 3, 5, 10],\n",
       "                                        'max_features': [0.5, 1, 'sqrt',\n",
       "                                                         'auto'],\n",
       "                                        'max_samples': [10000],\n",
       "                                        'min_samples_leaf': array([ 1,  3,  5,  7,  9, 11, 13, 15, 17, 19]),\n",
       "                                        'min_samples_split': array([ 2,  4,  6,  8, 10, 12, 14, 16, 18]),\n",
       "                                        'n_estimators': array([10, 20, 30, 40, 50, 60, 70, 80, 90])})"
      ]
     },
     "execution_count": 45,
     "metadata": {},
     "output_type": "execute_result"
    }
   ],
   "source": [
    "%%time\n",
    "# Hyperparameter grid for RandomizedSearchCV\n",
    "rfr_rs_grid = {\n",
    "    \"n_estimators\": np.arange(10, 100, 10),\n",
    "    \"max_depth\": [None, 3, 5, 10],\n",
    "    \"min_samples_split\": np.arange(2, 20, 2),\n",
    "    \"min_samples_leaf\": np.arange(1, 20, 2),\n",
    "    \"max_features\": [0.5, 1, \"sqrt\", \"auto\"],\n",
    "    \"max_samples\": [10000]\n",
    "}\n",
    "\n",
    "rfr_rs_model = RandomizedSearchCV(RandomForestRegressor(n_jobs=-1,random_state=42),\n",
    "                                 param_distributions=rfr_rs_grid,\n",
    "                                 cv=5,\n",
    "                                 n_iter=10)\n",
    "rfr_rs_model.fit(X_train, y_train)"
   ]
  },
  {
   "cell_type": "code",
   "execution_count": 46,
   "id": "a9287d57",
   "metadata": {
    "execution": {
     "iopub.execute_input": "2024-04-05T09:40:51.944294Z",
     "iopub.status.busy": "2024-04-05T09:40:51.943884Z",
     "iopub.status.idle": "2024-04-05T09:40:51.951702Z",
     "shell.execute_reply": "2024-04-05T09:40:51.950649Z"
    },
    "id": "bvTioNNQ0ivO",
    "outputId": "78e41121-6d19-493b-bc36-fdd5febf984c",
    "papermill": {
     "duration": 0.05373,
     "end_time": "2024-04-05T09:40:51.953842",
     "exception": false,
     "start_time": "2024-04-05T09:40:51.900112",
     "status": "completed"
    },
    "tags": []
   },
   "outputs": [
    {
     "data": {
      "text/plain": [
       "{'n_estimators': 80,\n",
       " 'min_samples_split': 4,\n",
       " 'min_samples_leaf': 5,\n",
       " 'max_samples': 10000,\n",
       " 'max_features': 'auto',\n",
       " 'max_depth': None}"
      ]
     },
     "execution_count": 46,
     "metadata": {},
     "output_type": "execute_result"
    }
   ],
   "source": [
    "rfr_rs_model.best_params_"
   ]
  },
  {
   "cell_type": "code",
   "execution_count": 47,
   "id": "14d65db0",
   "metadata": {
    "execution": {
     "iopub.execute_input": "2024-04-05T09:40:52.039426Z",
     "iopub.status.busy": "2024-04-05T09:40:52.039012Z",
     "iopub.status.idle": "2024-04-05T09:40:52.047340Z",
     "shell.execute_reply": "2024-04-05T09:40:52.046561Z"
    },
    "id": "v31v667t1GER",
    "outputId": "d5bcc2a7-afcc-4a04-857e-d33a3fc85112",
    "papermill": {
     "duration": 0.053668,
     "end_time": "2024-04-05T09:40:52.049339",
     "exception": false,
     "start_time": "2024-04-05T09:40:51.995671",
     "status": "completed"
    },
    "tags": []
   },
   "outputs": [
    {
     "data": {
      "text/html": [
       "<style>#sk-container-id-2 {color: black;background-color: white;}#sk-container-id-2 pre{padding: 0;}#sk-container-id-2 div.sk-toggleable {background-color: white;}#sk-container-id-2 label.sk-toggleable__label {cursor: pointer;display: block;width: 100%;margin-bottom: 0;padding: 0.3em;box-sizing: border-box;text-align: center;}#sk-container-id-2 label.sk-toggleable__label-arrow:before {content: \"▸\";float: left;margin-right: 0.25em;color: #696969;}#sk-container-id-2 label.sk-toggleable__label-arrow:hover:before {color: black;}#sk-container-id-2 div.sk-estimator:hover label.sk-toggleable__label-arrow:before {color: black;}#sk-container-id-2 div.sk-toggleable__content {max-height: 0;max-width: 0;overflow: hidden;text-align: left;background-color: #f0f8ff;}#sk-container-id-2 div.sk-toggleable__content pre {margin: 0.2em;color: black;border-radius: 0.25em;background-color: #f0f8ff;}#sk-container-id-2 input.sk-toggleable__control:checked~div.sk-toggleable__content {max-height: 200px;max-width: 100%;overflow: auto;}#sk-container-id-2 input.sk-toggleable__control:checked~label.sk-toggleable__label-arrow:before {content: \"▾\";}#sk-container-id-2 div.sk-estimator input.sk-toggleable__control:checked~label.sk-toggleable__label {background-color: #d4ebff;}#sk-container-id-2 div.sk-label input.sk-toggleable__control:checked~label.sk-toggleable__label {background-color: #d4ebff;}#sk-container-id-2 input.sk-hidden--visually {border: 0;clip: rect(1px 1px 1px 1px);clip: rect(1px, 1px, 1px, 1px);height: 1px;margin: -1px;overflow: hidden;padding: 0;position: absolute;width: 1px;}#sk-container-id-2 div.sk-estimator {font-family: monospace;background-color: #f0f8ff;border: 1px dotted black;border-radius: 0.25em;box-sizing: border-box;margin-bottom: 0.5em;}#sk-container-id-2 div.sk-estimator:hover {background-color: #d4ebff;}#sk-container-id-2 div.sk-parallel-item::after {content: \"\";width: 100%;border-bottom: 1px solid gray;flex-grow: 1;}#sk-container-id-2 div.sk-label:hover label.sk-toggleable__label {background-color: #d4ebff;}#sk-container-id-2 div.sk-serial::before {content: \"\";position: absolute;border-left: 1px solid gray;box-sizing: border-box;top: 0;bottom: 0;left: 50%;z-index: 0;}#sk-container-id-2 div.sk-serial {display: flex;flex-direction: column;align-items: center;background-color: white;padding-right: 0.2em;padding-left: 0.2em;position: relative;}#sk-container-id-2 div.sk-item {position: relative;z-index: 1;}#sk-container-id-2 div.sk-parallel {display: flex;align-items: stretch;justify-content: center;background-color: white;position: relative;}#sk-container-id-2 div.sk-item::before, #sk-container-id-2 div.sk-parallel-item::before {content: \"\";position: absolute;border-left: 1px solid gray;box-sizing: border-box;top: 0;bottom: 0;left: 50%;z-index: -1;}#sk-container-id-2 div.sk-parallel-item {display: flex;flex-direction: column;z-index: 1;position: relative;background-color: white;}#sk-container-id-2 div.sk-parallel-item:first-child::after {align-self: flex-end;width: 50%;}#sk-container-id-2 div.sk-parallel-item:last-child::after {align-self: flex-start;width: 50%;}#sk-container-id-2 div.sk-parallel-item:only-child::after {width: 0;}#sk-container-id-2 div.sk-dashed-wrapped {border: 1px dashed gray;margin: 0 0.4em 0.5em 0.4em;box-sizing: border-box;padding-bottom: 0.4em;background-color: white;}#sk-container-id-2 div.sk-label label {font-family: monospace;font-weight: bold;display: inline-block;line-height: 1.2em;}#sk-container-id-2 div.sk-label-container {text-align: center;}#sk-container-id-2 div.sk-container {/* jupyter's `normalize.less` sets `[hidden] { display: none; }` but bootstrap.min.css set `[hidden] { display: none !important; }` so we also need the `!important` here to be able to override the default hidden behavior on the sphinx rendered scikit-learn.org. See: https://github.com/scikit-learn/scikit-learn/issues/21755 */display: inline-block !important;position: relative;}#sk-container-id-2 div.sk-text-repr-fallback {display: none;}</style><div id=\"sk-container-id-2\" class=\"sk-top-container\"><div class=\"sk-text-repr-fallback\"><pre>RandomForestRegressor(max_features=&#x27;auto&#x27;, max_samples=10000,\n",
       "                      min_samples_leaf=5, min_samples_split=4, n_estimators=80,\n",
       "                      n_jobs=-1, random_state=42)</pre><b>In a Jupyter environment, please rerun this cell to show the HTML representation or trust the notebook. <br />On GitHub, the HTML representation is unable to render, please try loading this page with nbviewer.org.</b></div><div class=\"sk-container\" hidden><div class=\"sk-item\"><div class=\"sk-estimator sk-toggleable\"><input class=\"sk-toggleable__control sk-hidden--visually\" id=\"sk-estimator-id-4\" type=\"checkbox\" checked><label for=\"sk-estimator-id-4\" class=\"sk-toggleable__label sk-toggleable__label-arrow\">RandomForestRegressor</label><div class=\"sk-toggleable__content\"><pre>RandomForestRegressor(max_features=&#x27;auto&#x27;, max_samples=10000,\n",
       "                      min_samples_leaf=5, min_samples_split=4, n_estimators=80,\n",
       "                      n_jobs=-1, random_state=42)</pre></div></div></div></div></div>"
      ],
      "text/plain": [
       "RandomForestRegressor(max_features='auto', max_samples=10000,\n",
       "                      min_samples_leaf=5, min_samples_split=4, n_estimators=80,\n",
       "                      n_jobs=-1, random_state=42)"
      ]
     },
     "execution_count": 47,
     "metadata": {},
     "output_type": "execute_result"
    }
   ],
   "source": [
    "rfr_rs_model.best_estimator_"
   ]
  },
  {
   "cell_type": "code",
   "execution_count": 48,
   "id": "d27dcf9a",
   "metadata": {
    "execution": {
     "iopub.execute_input": "2024-04-05T09:40:52.135904Z",
     "iopub.status.busy": "2024-04-05T09:40:52.135496Z",
     "iopub.status.idle": "2024-04-05T09:40:52.221747Z",
     "shell.execute_reply": "2024-04-05T09:40:52.220960Z"
    },
    "id": "aUqhD0ZnjOXH",
    "outputId": "859c0cd0-19c5-4173-b831-9139054f5f67",
    "papermill": {
     "duration": 0.131993,
     "end_time": "2024-04-05T09:40:52.224006",
     "exception": false,
     "start_time": "2024-04-05T09:40:52.092013",
     "status": "completed"
    },
    "tags": []
   },
   "outputs": [
    {
     "data": {
      "text/html": [
       "<div>\n",
       "<style scoped>\n",
       "    .dataframe tbody tr th:only-of-type {\n",
       "        vertical-align: middle;\n",
       "    }\n",
       "\n",
       "    .dataframe tbody tr th {\n",
       "        vertical-align: top;\n",
       "    }\n",
       "\n",
       "    .dataframe thead th {\n",
       "        text-align: right;\n",
       "    }\n",
       "</style>\n",
       "<table border=\"1\" class=\"dataframe\">\n",
       "  <thead>\n",
       "    <tr style=\"text-align: right;\">\n",
       "      <th></th>\n",
       "      <th>rfr_rs</th>\n",
       "    </tr>\n",
       "  </thead>\n",
       "  <tbody>\n",
       "    <tr>\n",
       "      <th>R2_Score</th>\n",
       "      <td>0.825862</td>\n",
       "    </tr>\n",
       "    <tr>\n",
       "      <th>MSLE</th>\n",
       "      <td>0.084444</td>\n",
       "    </tr>\n",
       "    <tr>\n",
       "      <th>RMSLE</th>\n",
       "      <td>0.290593</td>\n",
       "    </tr>\n",
       "    <tr>\n",
       "      <th>MAE</th>\n",
       "      <td>7208.315926</td>\n",
       "    </tr>\n",
       "  </tbody>\n",
       "</table>\n",
       "</div>"
      ],
      "text/plain": [
       "               rfr_rs\n",
       "R2_Score     0.825862\n",
       "MSLE         0.084444\n",
       "RMSLE        0.290593\n",
       "MAE       7208.315926"
      ]
     },
     "execution_count": 48,
     "metadata": {},
     "output_type": "execute_result"
    }
   ],
   "source": [
    "rfr_rs_score = evaluate_scores(rfr_rs_model.best_estimator_)\n",
    "rfr_rs_df = pd.DataFrame(rfr_rs_score, index=['rfr_rs']).T\n",
    "rfr_rs_df"
   ]
  },
  {
   "cell_type": "markdown",
   "id": "30d3c1b1",
   "metadata": {
    "id": "BPMbodvLjOT3",
    "papermill": {
     "duration": 0.042637,
     "end_time": "2024-04-05T09:40:52.309034",
     "exception": false,
     "start_time": "2024-04-05T09:40:52.266397",
     "status": "completed"
    },
    "tags": []
   },
   "source": [
    "No such imporovement"
   ]
  },
  {
   "cell_type": "markdown",
   "id": "ce669578",
   "metadata": {
    "id": "Seo5HVTLjOQ3",
    "papermill": {
     "duration": 0.043167,
     "end_time": "2024-04-05T09:40:52.394409",
     "exception": false,
     "start_time": "2024-04-05T09:40:52.351242",
     "status": "completed"
    },
    "tags": []
   },
   "source": [
    "### GridSearchCV"
   ]
  },
  {
   "cell_type": "code",
   "execution_count": 49,
   "id": "514a36af",
   "metadata": {
    "execution": {
     "iopub.execute_input": "2024-04-05T09:40:52.481353Z",
     "iopub.status.busy": "2024-04-05T09:40:52.480630Z",
     "iopub.status.idle": "2024-04-05T09:48:46.092835Z",
     "shell.execute_reply": "2024-04-05T09:48:46.091887Z"
    },
    "id": "Zxgy2pDK2u_q",
    "papermill": {
     "duration": 473.704514,
     "end_time": "2024-04-05T09:48:46.141182",
     "exception": false,
     "start_time": "2024-04-05T09:40:52.436668",
     "status": "completed"
    },
    "tags": []
   },
   "outputs": [
    {
     "name": "stdout",
     "output_type": "stream",
     "text": [
      "CPU times: user 25min 2s, sys: 13.1 s, total: 25min 15s\n",
      "Wall time: 7min 53s\n"
     ]
    },
    {
     "data": {
      "text/html": [
       "<style>#sk-container-id-3 {color: black;background-color: white;}#sk-container-id-3 pre{padding: 0;}#sk-container-id-3 div.sk-toggleable {background-color: white;}#sk-container-id-3 label.sk-toggleable__label {cursor: pointer;display: block;width: 100%;margin-bottom: 0;padding: 0.3em;box-sizing: border-box;text-align: center;}#sk-container-id-3 label.sk-toggleable__label-arrow:before {content: \"▸\";float: left;margin-right: 0.25em;color: #696969;}#sk-container-id-3 label.sk-toggleable__label-arrow:hover:before {color: black;}#sk-container-id-3 div.sk-estimator:hover label.sk-toggleable__label-arrow:before {color: black;}#sk-container-id-3 div.sk-toggleable__content {max-height: 0;max-width: 0;overflow: hidden;text-align: left;background-color: #f0f8ff;}#sk-container-id-3 div.sk-toggleable__content pre {margin: 0.2em;color: black;border-radius: 0.25em;background-color: #f0f8ff;}#sk-container-id-3 input.sk-toggleable__control:checked~div.sk-toggleable__content {max-height: 200px;max-width: 100%;overflow: auto;}#sk-container-id-3 input.sk-toggleable__control:checked~label.sk-toggleable__label-arrow:before {content: \"▾\";}#sk-container-id-3 div.sk-estimator input.sk-toggleable__control:checked~label.sk-toggleable__label {background-color: #d4ebff;}#sk-container-id-3 div.sk-label input.sk-toggleable__control:checked~label.sk-toggleable__label {background-color: #d4ebff;}#sk-container-id-3 input.sk-hidden--visually {border: 0;clip: rect(1px 1px 1px 1px);clip: rect(1px, 1px, 1px, 1px);height: 1px;margin: -1px;overflow: hidden;padding: 0;position: absolute;width: 1px;}#sk-container-id-3 div.sk-estimator {font-family: monospace;background-color: #f0f8ff;border: 1px dotted black;border-radius: 0.25em;box-sizing: border-box;margin-bottom: 0.5em;}#sk-container-id-3 div.sk-estimator:hover {background-color: #d4ebff;}#sk-container-id-3 div.sk-parallel-item::after {content: \"\";width: 100%;border-bottom: 1px solid gray;flex-grow: 1;}#sk-container-id-3 div.sk-label:hover label.sk-toggleable__label {background-color: #d4ebff;}#sk-container-id-3 div.sk-serial::before {content: \"\";position: absolute;border-left: 1px solid gray;box-sizing: border-box;top: 0;bottom: 0;left: 50%;z-index: 0;}#sk-container-id-3 div.sk-serial {display: flex;flex-direction: column;align-items: center;background-color: white;padding-right: 0.2em;padding-left: 0.2em;position: relative;}#sk-container-id-3 div.sk-item {position: relative;z-index: 1;}#sk-container-id-3 div.sk-parallel {display: flex;align-items: stretch;justify-content: center;background-color: white;position: relative;}#sk-container-id-3 div.sk-item::before, #sk-container-id-3 div.sk-parallel-item::before {content: \"\";position: absolute;border-left: 1px solid gray;box-sizing: border-box;top: 0;bottom: 0;left: 50%;z-index: -1;}#sk-container-id-3 div.sk-parallel-item {display: flex;flex-direction: column;z-index: 1;position: relative;background-color: white;}#sk-container-id-3 div.sk-parallel-item:first-child::after {align-self: flex-end;width: 50%;}#sk-container-id-3 div.sk-parallel-item:last-child::after {align-self: flex-start;width: 50%;}#sk-container-id-3 div.sk-parallel-item:only-child::after {width: 0;}#sk-container-id-3 div.sk-dashed-wrapped {border: 1px dashed gray;margin: 0 0.4em 0.5em 0.4em;box-sizing: border-box;padding-bottom: 0.4em;background-color: white;}#sk-container-id-3 div.sk-label label {font-family: monospace;font-weight: bold;display: inline-block;line-height: 1.2em;}#sk-container-id-3 div.sk-label-container {text-align: center;}#sk-container-id-3 div.sk-container {/* jupyter's `normalize.less` sets `[hidden] { display: none; }` but bootstrap.min.css set `[hidden] { display: none !important; }` so we also need the `!important` here to be able to override the default hidden behavior on the sphinx rendered scikit-learn.org. See: https://github.com/scikit-learn/scikit-learn/issues/21755 */display: inline-block !important;position: relative;}#sk-container-id-3 div.sk-text-repr-fallback {display: none;}</style><div id=\"sk-container-id-3\" class=\"sk-top-container\"><div class=\"sk-text-repr-fallback\"><pre>GridSearchCV(cv=3, estimator=RandomForestRegressor(n_jobs=-1, random_state=42),\n",
       "             param_grid={&#x27;max_depth&#x27;: [None, 3], &#x27;max_features&#x27;: [0.5, 1],\n",
       "                         &#x27;max_samples&#x27;: [20000], &#x27;min_samples_leaf&#x27;: [1, 2],\n",
       "                         &#x27;min_samples_split&#x27;: [12, 14, 16],\n",
       "                         &#x27;n_estimators&#x27;: [30, 40, 50]})</pre><b>In a Jupyter environment, please rerun this cell to show the HTML representation or trust the notebook. <br />On GitHub, the HTML representation is unable to render, please try loading this page with nbviewer.org.</b></div><div class=\"sk-container\" hidden><div class=\"sk-item sk-dashed-wrapped\"><div class=\"sk-label-container\"><div class=\"sk-label sk-toggleable\"><input class=\"sk-toggleable__control sk-hidden--visually\" id=\"sk-estimator-id-5\" type=\"checkbox\" ><label for=\"sk-estimator-id-5\" class=\"sk-toggleable__label sk-toggleable__label-arrow\">GridSearchCV</label><div class=\"sk-toggleable__content\"><pre>GridSearchCV(cv=3, estimator=RandomForestRegressor(n_jobs=-1, random_state=42),\n",
       "             param_grid={&#x27;max_depth&#x27;: [None, 3], &#x27;max_features&#x27;: [0.5, 1],\n",
       "                         &#x27;max_samples&#x27;: [20000], &#x27;min_samples_leaf&#x27;: [1, 2],\n",
       "                         &#x27;min_samples_split&#x27;: [12, 14, 16],\n",
       "                         &#x27;n_estimators&#x27;: [30, 40, 50]})</pre></div></div></div><div class=\"sk-parallel\"><div class=\"sk-parallel-item\"><div class=\"sk-item\"><div class=\"sk-label-container\"><div class=\"sk-label sk-toggleable\"><input class=\"sk-toggleable__control sk-hidden--visually\" id=\"sk-estimator-id-6\" type=\"checkbox\" ><label for=\"sk-estimator-id-6\" class=\"sk-toggleable__label sk-toggleable__label-arrow\">estimator: RandomForestRegressor</label><div class=\"sk-toggleable__content\"><pre>RandomForestRegressor(n_jobs=-1, random_state=42)</pre></div></div></div><div class=\"sk-serial\"><div class=\"sk-item\"><div class=\"sk-estimator sk-toggleable\"><input class=\"sk-toggleable__control sk-hidden--visually\" id=\"sk-estimator-id-7\" type=\"checkbox\" ><label for=\"sk-estimator-id-7\" class=\"sk-toggleable__label sk-toggleable__label-arrow\">RandomForestRegressor</label><div class=\"sk-toggleable__content\"><pre>RandomForestRegressor(n_jobs=-1, random_state=42)</pre></div></div></div></div></div></div></div></div></div></div>"
      ],
      "text/plain": [
       "GridSearchCV(cv=3, estimator=RandomForestRegressor(n_jobs=-1, random_state=42),\n",
       "             param_grid={'max_depth': [None, 3], 'max_features': [0.5, 1],\n",
       "                         'max_samples': [20000], 'min_samples_leaf': [1, 2],\n",
       "                         'min_samples_split': [12, 14, 16],\n",
       "                         'n_estimators': [30, 40, 50]})"
      ]
     },
     "execution_count": 49,
     "metadata": {},
     "output_type": "execute_result"
    }
   ],
   "source": [
    "%%time\n",
    "rfr_gs_grid = {\n",
    "    \"n_estimators\": [30, 40, 50],\n",
    "    \"max_depth\": [None, 3],\n",
    "    \"min_samples_split\": [12, 14, 16],\n",
    "    \"min_samples_leaf\": [1,2],\n",
    "    \"max_features\": [0.5, 1],\n",
    "    \"max_samples\": [20000]\n",
    "}\n",
    "\n",
    "rfr_gs_model = GridSearchCV(RandomForestRegressor(n_jobs=-1,random_state=42),\n",
    "                                 param_grid=rfr_gs_grid,\n",
    "                                 cv=3)\n",
    "rfr_gs_model.fit(X_train, y_train)"
   ]
  },
  {
   "cell_type": "code",
   "execution_count": 50,
   "id": "40839cc6",
   "metadata": {
    "execution": {
     "iopub.execute_input": "2024-04-05T09:48:46.232247Z",
     "iopub.status.busy": "2024-04-05T09:48:46.231538Z",
     "iopub.status.idle": "2024-04-05T09:48:46.238063Z",
     "shell.execute_reply": "2024-04-05T09:48:46.237210Z"
    },
    "id": "56tLPkTZ75kN",
    "papermill": {
     "duration": 0.055487,
     "end_time": "2024-04-05T09:48:46.240263",
     "exception": false,
     "start_time": "2024-04-05T09:48:46.184776",
     "status": "completed"
    },
    "tags": []
   },
   "outputs": [
    {
     "data": {
      "text/plain": [
       "{'max_depth': None,\n",
       " 'max_features': 0.5,\n",
       " 'max_samples': 20000,\n",
       " 'min_samples_leaf': 1,\n",
       " 'min_samples_split': 12,\n",
       " 'n_estimators': 50}"
      ]
     },
     "execution_count": 50,
     "metadata": {},
     "output_type": "execute_result"
    }
   ],
   "source": [
    "rfr_gs_model.best_params_"
   ]
  },
  {
   "cell_type": "code",
   "execution_count": 51,
   "id": "cc0e655f",
   "metadata": {
    "execution": {
     "iopub.execute_input": "2024-04-05T09:48:46.331857Z",
     "iopub.status.busy": "2024-04-05T09:48:46.331352Z",
     "iopub.status.idle": "2024-04-05T09:48:46.420211Z",
     "shell.execute_reply": "2024-04-05T09:48:46.418967Z"
    },
    "id": "7KSDd7Yd8wX2",
    "papermill": {
     "duration": 0.138446,
     "end_time": "2024-04-05T09:48:46.423244",
     "exception": false,
     "start_time": "2024-04-05T09:48:46.284798",
     "status": "completed"
    },
    "tags": []
   },
   "outputs": [
    {
     "data": {
      "text/html": [
       "<div>\n",
       "<style scoped>\n",
       "    .dataframe tbody tr th:only-of-type {\n",
       "        vertical-align: middle;\n",
       "    }\n",
       "\n",
       "    .dataframe tbody tr th {\n",
       "        vertical-align: top;\n",
       "    }\n",
       "\n",
       "    .dataframe thead th {\n",
       "        text-align: right;\n",
       "    }\n",
       "</style>\n",
       "<table border=\"1\" class=\"dataframe\">\n",
       "  <thead>\n",
       "    <tr style=\"text-align: right;\">\n",
       "      <th></th>\n",
       "      <th>rfr_gs</th>\n",
       "    </tr>\n",
       "  </thead>\n",
       "  <tbody>\n",
       "    <tr>\n",
       "      <th>R2_Score</th>\n",
       "      <td>0.849780</td>\n",
       "    </tr>\n",
       "    <tr>\n",
       "      <th>MSLE</th>\n",
       "      <td>0.078894</td>\n",
       "    </tr>\n",
       "    <tr>\n",
       "      <th>RMSLE</th>\n",
       "      <td>0.280880</td>\n",
       "    </tr>\n",
       "    <tr>\n",
       "      <th>MAE</th>\n",
       "      <td>6840.767381</td>\n",
       "    </tr>\n",
       "  </tbody>\n",
       "</table>\n",
       "</div>"
      ],
      "text/plain": [
       "               rfr_gs\n",
       "R2_Score     0.849780\n",
       "MSLE         0.078894\n",
       "RMSLE        0.280880\n",
       "MAE       6840.767381"
      ]
     },
     "execution_count": 51,
     "metadata": {},
     "output_type": "execute_result"
    }
   ],
   "source": [
    "rfr_gs_score = evaluate_scores(rfr_gs_model.best_estimator_)\n",
    "rfr_gs_df = pd.DataFrame(rfr_gs_score, index=['rfr_gs']).T\n",
    "rfr_gs_df"
   ]
  },
  {
   "cell_type": "code",
   "execution_count": 52,
   "id": "35cb720a",
   "metadata": {
    "execution": {
     "iopub.execute_input": "2024-04-05T09:48:46.515206Z",
     "iopub.status.busy": "2024-04-05T09:48:46.514715Z",
     "iopub.status.idle": "2024-04-05T09:48:46.529480Z",
     "shell.execute_reply": "2024-04-05T09:48:46.528034Z"
    },
    "id": "1j6FIeXaBO7x",
    "papermill": {
     "duration": 0.063561,
     "end_time": "2024-04-05T09:48:46.531976",
     "exception": false,
     "start_time": "2024-04-05T09:48:46.468415",
     "status": "completed"
    },
    "tags": []
   },
   "outputs": [
    {
     "data": {
      "text/html": [
       "<div>\n",
       "<style scoped>\n",
       "    .dataframe tbody tr th:only-of-type {\n",
       "        vertical-align: middle;\n",
       "    }\n",
       "\n",
       "    .dataframe tbody tr th {\n",
       "        vertical-align: top;\n",
       "    }\n",
       "\n",
       "    .dataframe thead th {\n",
       "        text-align: right;\n",
       "    }\n",
       "</style>\n",
       "<table border=\"1\" class=\"dataframe\">\n",
       "  <thead>\n",
       "    <tr style=\"text-align: right;\">\n",
       "      <th></th>\n",
       "      <th>rfr</th>\n",
       "      <th>rfr_rs</th>\n",
       "      <th>rfr_gs</th>\n",
       "    </tr>\n",
       "  </thead>\n",
       "  <tbody>\n",
       "    <tr>\n",
       "      <th>R2_Score</th>\n",
       "      <td>0.838456</td>\n",
       "      <td>0.825862</td>\n",
       "      <td>0.849780</td>\n",
       "    </tr>\n",
       "    <tr>\n",
       "      <th>MSLE</th>\n",
       "      <td>0.082338</td>\n",
       "      <td>0.084444</td>\n",
       "      <td>0.078894</td>\n",
       "    </tr>\n",
       "    <tr>\n",
       "      <th>RMSLE</th>\n",
       "      <td>0.286945</td>\n",
       "      <td>0.290593</td>\n",
       "      <td>0.280880</td>\n",
       "    </tr>\n",
       "    <tr>\n",
       "      <th>MAE</th>\n",
       "      <td>7033.773957</td>\n",
       "      <td>7208.315926</td>\n",
       "      <td>6840.767381</td>\n",
       "    </tr>\n",
       "  </tbody>\n",
       "</table>\n",
       "</div>"
      ],
      "text/plain": [
       "                  rfr       rfr_rs       rfr_gs\n",
       "R2_Score     0.838456     0.825862     0.849780\n",
       "MSLE         0.082338     0.084444     0.078894\n",
       "RMSLE        0.286945     0.290593     0.280880\n",
       "MAE       7033.773957  7208.315926  6840.767381"
      ]
     },
     "execution_count": 52,
     "metadata": {},
     "output_type": "execute_result"
    }
   ],
   "source": [
    "combined_df = pd.concat([rfr_base_df, rfr_rs_df, rfr_gs_df], axis=1)\n",
    "combined_df"
   ]
  },
  {
   "cell_type": "markdown",
   "id": "a30bb7c2",
   "metadata": {
    "id": "7cyFzEzvjOOG",
    "papermill": {
     "duration": 0.044191,
     "end_time": "2024-04-05T09:48:46.621682",
     "exception": false,
     "start_time": "2024-04-05T09:48:46.577491",
     "status": "completed"
    },
    "tags": []
   },
   "source": [
    "Visualize the baseline, RandomizedSearchCV, GridSearchCV model of RandomForestRegressor."
   ]
  },
  {
   "cell_type": "code",
   "execution_count": 53,
   "id": "26af4a37",
   "metadata": {
    "execution": {
     "iopub.execute_input": "2024-04-05T09:48:46.714166Z",
     "iopub.status.busy": "2024-04-05T09:48:46.713531Z",
     "iopub.status.idle": "2024-04-05T09:48:46.906581Z",
     "shell.execute_reply": "2024-04-05T09:48:46.905203Z"
    },
    "id": "C9mFrVrlBzF9",
    "papermill": {
     "duration": 0.24225,
     "end_time": "2024-04-05T09:48:46.909245",
     "exception": false,
     "start_time": "2024-04-05T09:48:46.666995",
     "status": "completed"
    },
    "tags": []
   },
   "outputs": [
    {
     "data": {
      "image/png": "[encoded data removed]",
      "text/plain": [
       "<Figure size 800x550 with 1 Axes>"
      ]
     },
     "metadata": {},
     "output_type": "display_data"
    }
   ],
   "source": [
    "combined_df.loc['RMSLE'].plot.bar()\n",
    "plt.xticks(rotation=0);"
   ]
  },
  {
   "cell_type": "markdown",
   "id": "b9e3352a",
   "metadata": {
    "id": "gyTP7Ad0Ca1h",
    "papermill": {
     "duration": 0.045077,
     "end_time": "2024-04-05T09:48:47.000429",
     "exception": false,
     "start_time": "2024-04-05T09:48:46.955352",
     "status": "completed"
    },
    "tags": []
   },
   "source": [
    "We can see that grid search model works better than other two.\n",
    "Now, our ideal_model will have same parameter as the grid search model but with `max_samples=none`."
   ]
  },
  {
   "cell_type": "markdown",
   "id": "02886fdb",
   "metadata": {
    "id": "sZkeLk4sEPTX",
    "papermill": {
     "duration": 0.04515,
     "end_time": "2024-04-05T09:48:47.091090",
     "exception": false,
     "start_time": "2024-04-05T09:48:47.045940",
     "status": "completed"
    },
    "tags": []
   },
   "source": [
    "### Ideal Model"
   ]
  },
  {
   "cell_type": "code",
   "execution_count": 54,
   "id": "448fc9bd",
   "metadata": {
    "execution": {
     "iopub.execute_input": "2024-04-05T09:48:47.184898Z",
     "iopub.status.busy": "2024-04-05T09:48:47.184406Z",
     "iopub.status.idle": "2024-04-05T09:50:11.653574Z",
     "shell.execute_reply": "2024-04-05T09:50:11.652571Z"
    },
    "id": "k3xYhpdI9uLH",
    "outputId": "0305b4ee-01df-4d61-ebeb-209acea25b2c",
    "papermill": {
     "duration": 84.565283,
     "end_time": "2024-04-05T09:50:11.702528",
     "exception": false,
     "start_time": "2024-04-05T09:48:47.137245",
     "status": "completed"
    },
    "tags": []
   },
   "outputs": [
    {
     "name": "stdout",
     "output_type": "stream",
     "text": [
      "CPU times: user 5min 22s, sys: 788 ms, total: 5min 22s\n",
      "Wall time: 1min 24s\n"
     ]
    },
    {
     "data": {
      "text/html": [
       "<style>#sk-container-id-4 {color: black;background-color: white;}#sk-container-id-4 pre{padding: 0;}#sk-container-id-4 div.sk-toggleable {background-color: white;}#sk-container-id-4 label.sk-toggleable__label {cursor: pointer;display: block;width: 100%;margin-bottom: 0;padding: 0.3em;box-sizing: border-box;text-align: center;}#sk-container-id-4 label.sk-toggleable__label-arrow:before {content: \"▸\";float: left;margin-right: 0.25em;color: #696969;}#sk-container-id-4 label.sk-toggleable__label-arrow:hover:before {color: black;}#sk-container-id-4 div.sk-estimator:hover label.sk-toggleable__label-arrow:before {color: black;}#sk-container-id-4 div.sk-toggleable__content {max-height: 0;max-width: 0;overflow: hidden;text-align: left;background-color: #f0f8ff;}#sk-container-id-4 div.sk-toggleable__content pre {margin: 0.2em;color: black;border-radius: 0.25em;background-color: #f0f8ff;}#sk-container-id-4 input.sk-toggleable__control:checked~div.sk-toggleable__content {max-height: 200px;max-width: 100%;overflow: auto;}#sk-container-id-4 input.sk-toggleable__control:checked~label.sk-toggleable__label-arrow:before {content: \"▾\";}#sk-container-id-4 div.sk-estimator input.sk-toggleable__control:checked~label.sk-toggleable__label {background-color: #d4ebff;}#sk-container-id-4 div.sk-label input.sk-toggleable__control:checked~label.sk-toggleable__label {background-color: #d4ebff;}#sk-container-id-4 input.sk-hidden--visually {border: 0;clip: rect(1px 1px 1px 1px);clip: rect(1px, 1px, 1px, 1px);height: 1px;margin: -1px;overflow: hidden;padding: 0;position: absolute;width: 1px;}#sk-container-id-4 div.sk-estimator {font-family: monospace;background-color: #f0f8ff;border: 1px dotted black;border-radius: 0.25em;box-sizing: border-box;margin-bottom: 0.5em;}#sk-container-id-4 div.sk-estimator:hover {background-color: #d4ebff;}#sk-container-id-4 div.sk-parallel-item::after {content: \"\";width: 100%;border-bottom: 1px solid gray;flex-grow: 1;}#sk-container-id-4 div.sk-label:hover label.sk-toggleable__label {background-color: #d4ebff;}#sk-container-id-4 div.sk-serial::before {content: \"\";position: absolute;border-left: 1px solid gray;box-sizing: border-box;top: 0;bottom: 0;left: 50%;z-index: 0;}#sk-container-id-4 div.sk-serial {display: flex;flex-direction: column;align-items: center;background-color: white;padding-right: 0.2em;padding-left: 0.2em;position: relative;}#sk-container-id-4 div.sk-item {position: relative;z-index: 1;}#sk-container-id-4 div.sk-parallel {display: flex;align-items: stretch;justify-content: center;background-color: white;position: relative;}#sk-container-id-4 div.sk-item::before, #sk-container-id-4 div.sk-parallel-item::before {content: \"\";position: absolute;border-left: 1px solid gray;box-sizing: border-box;top: 0;bottom: 0;left: 50%;z-index: -1;}#sk-container-id-4 div.sk-parallel-item {display: flex;flex-direction: column;z-index: 1;position: relative;background-color: white;}#sk-container-id-4 div.sk-parallel-item:first-child::after {align-self: flex-end;width: 50%;}#sk-container-id-4 div.sk-parallel-item:last-child::after {align-self: flex-start;width: 50%;}#sk-container-id-4 div.sk-parallel-item:only-child::after {width: 0;}#sk-container-id-4 div.sk-dashed-wrapped {border: 1px dashed gray;margin: 0 0.4em 0.5em 0.4em;box-sizing: border-box;padding-bottom: 0.4em;background-color: white;}#sk-container-id-4 div.sk-label label {font-family: monospace;font-weight: bold;display: inline-block;line-height: 1.2em;}#sk-container-id-4 div.sk-label-container {text-align: center;}#sk-container-id-4 div.sk-container {/* jupyter's `normalize.less` sets `[hidden] { display: none; }` but bootstrap.min.css set `[hidden] { display: none !important; }` so we also need the `!important` here to be able to override the default hidden behavior on the sphinx rendered scikit-learn.org. See: https://github.com/scikit-learn/scikit-learn/issues/21755 */display: inline-block !important;position: relative;}#sk-container-id-4 div.sk-text-repr-fallback {display: none;}</style><div id=\"sk-container-id-4\" class=\"sk-top-container\"><div class=\"sk-text-repr-fallback\"><pre>RandomForestRegressor(max_features=0.5, min_samples_split=12, n_estimators=50,\n",
       "                      n_jobs=-1, random_state=42)</pre><b>In a Jupyter environment, please rerun this cell to show the HTML representation or trust the notebook. <br />On GitHub, the HTML representation is unable to render, please try loading this page with nbviewer.org.</b></div><div class=\"sk-container\" hidden><div class=\"sk-item\"><div class=\"sk-estimator sk-toggleable\"><input class=\"sk-toggleable__control sk-hidden--visually\" id=\"sk-estimator-id-8\" type=\"checkbox\" checked><label for=\"sk-estimator-id-8\" class=\"sk-toggleable__label sk-toggleable__label-arrow\">RandomForestRegressor</label><div class=\"sk-toggleable__content\"><pre>RandomForestRegressor(max_features=0.5, min_samples_split=12, n_estimators=50,\n",
       "                      n_jobs=-1, random_state=42)</pre></div></div></div></div></div>"
      ],
      "text/plain": [
       "RandomForestRegressor(max_features=0.5, min_samples_split=12, n_estimators=50,\n",
       "                      n_jobs=-1, random_state=42)"
      ]
     },
     "execution_count": 54,
     "metadata": {},
     "output_type": "execute_result"
    }
   ],
   "source": [
    "%%time\n",
    "\n",
    "# Most ideal hyperparamters\n",
    "rfr_ideal_model = RandomForestRegressor(n_estimators=50,\n",
    "                                    min_samples_leaf=1,\n",
    "                                    min_samples_split=12,\n",
    "                                    max_features=0.5,\n",
    "                                    n_jobs=-1,\n",
    "                                    max_samples=None,\n",
    "                                    random_state=42) # random state so our results are reproducible\n",
    "\n",
    "# Fit the ideal model\n",
    "rfr_ideal_model.fit(X_train, y_train)"
   ]
  },
  {
   "cell_type": "code",
   "execution_count": 55,
   "id": "56507966",
   "metadata": {
    "execution": {
     "iopub.execute_input": "2024-04-05T09:50:11.797616Z",
     "iopub.status.busy": "2024-04-05T09:50:11.796834Z",
     "iopub.status.idle": "2024-04-05T09:50:11.929981Z",
     "shell.execute_reply": "2024-04-05T09:50:11.928780Z"
    },
    "id": "ny5GKxw911Rf",
    "outputId": "1d8ea415-8ab0-44a3-d468-6fccb1adae90",
    "papermill": {
     "duration": 0.184574,
     "end_time": "2024-04-05T09:50:11.933007",
     "exception": false,
     "start_time": "2024-04-05T09:50:11.748433",
     "status": "completed"
    },
    "tags": []
   },
   "outputs": [
    {
     "data": {
      "text/html": [
       "<div>\n",
       "<style scoped>\n",
       "    .dataframe tbody tr th:only-of-type {\n",
       "        vertical-align: middle;\n",
       "    }\n",
       "\n",
       "    .dataframe tbody tr th {\n",
       "        vertical-align: top;\n",
       "    }\n",
       "\n",
       "    .dataframe thead th {\n",
       "        text-align: right;\n",
       "    }\n",
       "</style>\n",
       "<table border=\"1\" class=\"dataframe\">\n",
       "  <thead>\n",
       "    <tr style=\"text-align: right;\">\n",
       "      <th></th>\n",
       "      <th>rfr_ideal</th>\n",
       "    </tr>\n",
       "  </thead>\n",
       "  <tbody>\n",
       "    <tr>\n",
       "      <th>R2_Score</th>\n",
       "      <td>0.882327</td>\n",
       "    </tr>\n",
       "    <tr>\n",
       "      <th>MSLE</th>\n",
       "      <td>0.060891</td>\n",
       "    </tr>\n",
       "    <tr>\n",
       "      <th>RMSLE</th>\n",
       "      <td>0.246760</td>\n",
       "    </tr>\n",
       "    <tr>\n",
       "      <th>MAE</th>\n",
       "      <td>5955.706156</td>\n",
       "    </tr>\n",
       "  </tbody>\n",
       "</table>\n",
       "</div>"
      ],
      "text/plain": [
       "            rfr_ideal\n",
       "R2_Score     0.882327\n",
       "MSLE         0.060891\n",
       "RMSLE        0.246760\n",
       "MAE       5955.706156"
      ]
     },
     "execution_count": 55,
     "metadata": {},
     "output_type": "execute_result"
    }
   ],
   "source": [
    "rfr_ideal_score = evaluate_scores(rfr_ideal_model)\n",
    "rfr_ideal_df = pd.DataFrame(rfr_ideal_score, index=['rfr_ideal']).T\n",
    "rfr_ideal_df"
   ]
  },
  {
   "cell_type": "markdown",
   "id": "9cfb679d",
   "metadata": {
    "id": "J77OjrdvjOA4",
    "papermill": {
     "duration": 0.045992,
     "end_time": "2024-04-05T09:50:12.025053",
     "exception": false,
     "start_time": "2024-04-05T09:50:11.979061",
     "status": "completed"
    },
    "tags": []
   },
   "source": [
    "## Feature Importance"
   ]
  },
  {
   "cell_type": "code",
   "execution_count": 56,
   "id": "cfb3b60d",
   "metadata": {
    "execution": {
     "iopub.execute_input": "2024-04-05T09:50:12.121298Z",
     "iopub.status.busy": "2024-04-05T09:50:12.120507Z",
     "iopub.status.idle": "2024-04-05T09:50:12.175929Z",
     "shell.execute_reply": "2024-04-05T09:50:12.174908Z"
    },
    "id": "40biqsIJD0CZ",
    "outputId": "8922b93a-e929-422e-9195-98d7b3fbc19a",
    "papermill": {
     "duration": 0.108278,
     "end_time": "2024-04-05T09:50:12.179229",
     "exception": false,
     "start_time": "2024-04-05T09:50:12.070951",
     "status": "completed"
    },
    "tags": []
   },
   "outputs": [],
   "source": [
    "feature_importance = rfr_ideal_model.feature_importances_"
   ]
  },
  {
   "cell_type": "code",
   "execution_count": 57,
   "id": "55f3a228",
   "metadata": {
    "execution": {
     "iopub.execute_input": "2024-04-05T09:50:12.273108Z",
     "iopub.status.busy": "2024-04-05T09:50:12.272591Z",
     "iopub.status.idle": "2024-04-05T09:50:12.278718Z",
     "shell.execute_reply": "2024-04-05T09:50:12.277406Z"
    },
    "id": "UbnlOLJYFfGl",
    "papermill": {
     "duration": 0.056161,
     "end_time": "2024-04-05T09:50:12.281256",
     "exception": false,
     "start_time": "2024-04-05T09:50:12.225095",
     "status": "completed"
    },
    "tags": []
   },
   "outputs": [],
   "source": [
    "feature_dict = dict(zip(X_train.columns, feature_importance))"
   ]
  },
  {
   "cell_type": "code",
   "execution_count": 58,
   "id": "a2d362a7",
   "metadata": {
    "execution": {
     "iopub.execute_input": "2024-04-05T09:50:12.378981Z",
     "iopub.status.busy": "2024-04-05T09:50:12.377903Z",
     "iopub.status.idle": "2024-04-05T09:50:12.395956Z",
     "shell.execute_reply": "2024-04-05T09:50:12.394615Z"
    },
    "id": "-nw15qOkFav9",
    "outputId": "d9d1b94e-8cf7-4b2a-863e-dba9b3fe7180",
    "papermill": {
     "duration": 0.068882,
     "end_time": "2024-04-05T09:50:12.399047",
     "exception": false,
     "start_time": "2024-04-05T09:50:12.330165",
     "status": "completed"
    },
    "tags": []
   },
   "outputs": [
    {
     "data": {
      "text/html": [
       "<div>\n",
       "<style scoped>\n",
       "    .dataframe tbody tr th:only-of-type {\n",
       "        vertical-align: middle;\n",
       "    }\n",
       "\n",
       "    .dataframe tbody tr th {\n",
       "        vertical-align: top;\n",
       "    }\n",
       "\n",
       "    .dataframe thead th {\n",
       "        text-align: right;\n",
       "    }\n",
       "</style>\n",
       "<table border=\"1\" class=\"dataframe\">\n",
       "  <thead>\n",
       "    <tr style=\"text-align: right;\">\n",
       "      <th></th>\n",
       "      <th>Feature Importance</th>\n",
       "    </tr>\n",
       "  </thead>\n",
       "  <tbody>\n",
       "    <tr>\n",
       "      <th>YearMade</th>\n",
       "      <td>0.182352</td>\n",
       "    </tr>\n",
       "    <tr>\n",
       "      <th>ProductSize</th>\n",
       "      <td>0.153962</td>\n",
       "    </tr>\n",
       "    <tr>\n",
       "      <th>fiSecondaryDesc</th>\n",
       "      <td>0.082100</td>\n",
       "    </tr>\n",
       "    <tr>\n",
       "      <th>saleYear</th>\n",
       "      <td>0.075107</td>\n",
       "    </tr>\n",
       "    <tr>\n",
       "      <th>fiModelDesc</th>\n",
       "      <td>0.049361</td>\n",
       "    </tr>\n",
       "    <tr>\n",
       "      <th>...</th>\n",
       "      <td>...</td>\n",
       "    </tr>\n",
       "    <tr>\n",
       "      <th>fiProductClassDesc_is_missing</th>\n",
       "      <td>0.000000</td>\n",
       "    </tr>\n",
       "    <tr>\n",
       "      <th>ProductGroupDesc_is_missing</th>\n",
       "      <td>0.000000</td>\n",
       "    </tr>\n",
       "    <tr>\n",
       "      <th>fiModelDesc_is_missing</th>\n",
       "      <td>0.000000</td>\n",
       "    </tr>\n",
       "    <tr>\n",
       "      <th>ProductGroup_is_missing</th>\n",
       "      <td>0.000000</td>\n",
       "    </tr>\n",
       "    <tr>\n",
       "      <th>fiBaseModel_is_missing</th>\n",
       "      <td>0.000000</td>\n",
       "    </tr>\n",
       "  </tbody>\n",
       "</table>\n",
       "<p>102 rows × 1 columns</p>\n",
       "</div>"
      ],
      "text/plain": [
       "                               Feature Importance\n",
       "YearMade                                 0.182352\n",
       "ProductSize                              0.153962\n",
       "fiSecondaryDesc                          0.082100\n",
       "saleYear                                 0.075107\n",
       "fiModelDesc                              0.049361\n",
       "...                                           ...\n",
       "fiProductClassDesc_is_missing            0.000000\n",
       "ProductGroupDesc_is_missing              0.000000\n",
       "fiModelDesc_is_missing                   0.000000\n",
       "ProductGroup_is_missing                  0.000000\n",
       "fiBaseModel_is_missing                   0.000000\n",
       "\n",
       "[102 rows x 1 columns]"
      ]
     },
     "execution_count": 58,
     "metadata": {},
     "output_type": "execute_result"
    }
   ],
   "source": [
    "feature_df = pd.DataFrame(feature_dict, index=['Feature Importance']).T\n",
    "feature_df.sort_values(by='Feature Importance', inplace=True, ascending=False)\n",
    "feature_df"
   ]
  },
  {
   "cell_type": "code",
   "execution_count": 59,
   "id": "818b0e64",
   "metadata": {
    "execution": {
     "iopub.execute_input": "2024-04-05T09:50:12.498811Z",
     "iopub.status.busy": "2024-04-05T09:50:12.498271Z",
     "iopub.status.idle": "2024-04-05T09:50:12.830034Z",
     "shell.execute_reply": "2024-04-05T09:50:12.828670Z"
    },
    "id": "CN9XHeA7GWL8",
    "outputId": "f7dfdad1-d504-4250-8e92-13268faf6e5b",
    "papermill": {
     "duration": 0.386838,
     "end_time": "2024-04-05T09:50:12.833321",
     "exception": false,
     "start_time": "2024-04-05T09:50:12.446483",
     "status": "completed"
    },
    "tags": []
   },
   "outputs": [
    {
     "data": {
      "image/png": "[encoded data removed]",
      "text/plain": [
       "<Figure size 800x550 with 1 Axes>"
      ]
     },
     "metadata": {},
     "output_type": "display_data"
    }
   ],
   "source": [
    "feature_df[:10].plot.barh();"
   ]
  },
  {
   "cell_type": "markdown",
   "id": "2229b65c",
   "metadata": {
    "id": "30KQduQKozCp",
    "papermill": {
     "duration": 0.047506,
     "end_time": "2024-04-05T09:50:12.928724",
     "exception": false,
     "start_time": "2024-04-05T09:50:12.881218",
     "status": "completed"
    },
    "tags": []
   },
   "source": [
    "**Obesrvation : `YearMade` and `ProductSize` are the two most important features.**"
   ]
  },
  {
   "cell_type": "markdown",
   "id": "c8b69889",
   "metadata": {
    "id": "npT2EWTS7Tq5",
    "papermill": {
     "duration": 0.046979,
     "end_time": "2024-04-05T09:50:13.023417",
     "exception": false,
     "start_time": "2024-04-05T09:50:12.976438",
     "status": "completed"
    },
    "tags": []
   },
   "source": [
    "## Prediction on Test data"
   ]
  },
  {
   "cell_type": "code",
   "execution_count": 60,
   "id": "9a58db00",
   "metadata": {
    "execution": {
     "iopub.execute_input": "2024-04-05T09:50:13.120441Z",
     "iopub.status.busy": "2024-04-05T09:50:13.119927Z",
     "iopub.status.idle": "2024-04-05T09:50:13.316778Z",
     "shell.execute_reply": "2024-04-05T09:50:13.315584Z"
    },
    "id": "CYI-8-cw7TFg",
    "outputId": "6968b1be-6f79-4617-a8e1-2d2682233de8",
    "papermill": {
     "duration": 0.249565,
     "end_time": "2024-04-05T09:50:13.320310",
     "exception": false,
     "start_time": "2024-04-05T09:50:13.070745",
     "status": "completed"
    },
    "tags": []
   },
   "outputs": [
    {
     "data": {
      "text/html": [
       "<div>\n",
       "<style scoped>\n",
       "    .dataframe tbody tr th:only-of-type {\n",
       "        vertical-align: middle;\n",
       "    }\n",
       "\n",
       "    .dataframe tbody tr th {\n",
       "        vertical-align: top;\n",
       "    }\n",
       "\n",
       "    .dataframe thead th {\n",
       "        text-align: right;\n",
       "    }\n",
       "</style>\n",
       "<table border=\"1\" class=\"dataframe\">\n",
       "  <thead>\n",
       "    <tr style=\"text-align: right;\">\n",
       "      <th></th>\n",
       "      <th>SalesID</th>\n",
       "      <th>MachineID</th>\n",
       "      <th>ModelID</th>\n",
       "      <th>datasource</th>\n",
       "      <th>auctioneerID</th>\n",
       "      <th>YearMade</th>\n",
       "      <th>MachineHoursCurrentMeter</th>\n",
       "      <th>UsageBand</th>\n",
       "      <th>saledate</th>\n",
       "      <th>fiModelDesc</th>\n",
       "      <th>...</th>\n",
       "      <th>Undercarriage_Pad_Width</th>\n",
       "      <th>Stick_Length</th>\n",
       "      <th>Thumb</th>\n",
       "      <th>Pattern_Changer</th>\n",
       "      <th>Grouser_Type</th>\n",
       "      <th>Backhoe_Mounting</th>\n",
       "      <th>Blade_Type</th>\n",
       "      <th>Travel_Controls</th>\n",
       "      <th>Differential_Type</th>\n",
       "      <th>Steering_Controls</th>\n",
       "    </tr>\n",
       "  </thead>\n",
       "  <tbody>\n",
       "    <tr>\n",
       "      <th>0</th>\n",
       "      <td>1227829</td>\n",
       "      <td>1006309</td>\n",
       "      <td>3168</td>\n",
       "      <td>121</td>\n",
       "      <td>3</td>\n",
       "      <td>1999</td>\n",
       "      <td>3688.0</td>\n",
       "      <td>Low</td>\n",
       "      <td>5/3/2012 0:00</td>\n",
       "      <td>580G</td>\n",
       "      <td>...</td>\n",
       "      <td>NaN</td>\n",
       "      <td>NaN</td>\n",
       "      <td>NaN</td>\n",
       "      <td>NaN</td>\n",
       "      <td>NaN</td>\n",
       "      <td>NaN</td>\n",
       "      <td>NaN</td>\n",
       "      <td>NaN</td>\n",
       "      <td>NaN</td>\n",
       "      <td>NaN</td>\n",
       "    </tr>\n",
       "    <tr>\n",
       "      <th>1</th>\n",
       "      <td>1227844</td>\n",
       "      <td>1022817</td>\n",
       "      <td>7271</td>\n",
       "      <td>121</td>\n",
       "      <td>3</td>\n",
       "      <td>1000</td>\n",
       "      <td>28555.0</td>\n",
       "      <td>High</td>\n",
       "      <td>5/10/2012 0:00</td>\n",
       "      <td>936</td>\n",
       "      <td>...</td>\n",
       "      <td>NaN</td>\n",
       "      <td>NaN</td>\n",
       "      <td>NaN</td>\n",
       "      <td>NaN</td>\n",
       "      <td>NaN</td>\n",
       "      <td>NaN</td>\n",
       "      <td>NaN</td>\n",
       "      <td>NaN</td>\n",
       "      <td>Standard</td>\n",
       "      <td>Conventional</td>\n",
       "    </tr>\n",
       "    <tr>\n",
       "      <th>2</th>\n",
       "      <td>1227847</td>\n",
       "      <td>1031560</td>\n",
       "      <td>22805</td>\n",
       "      <td>121</td>\n",
       "      <td>3</td>\n",
       "      <td>2004</td>\n",
       "      <td>6038.0</td>\n",
       "      <td>Medium</td>\n",
       "      <td>5/10/2012 0:00</td>\n",
       "      <td>EC210BLC</td>\n",
       "      <td>...</td>\n",
       "      <td>None or Unspecified</td>\n",
       "      <td>9' 6\"</td>\n",
       "      <td>Manual</td>\n",
       "      <td>None or Unspecified</td>\n",
       "      <td>Double</td>\n",
       "      <td>NaN</td>\n",
       "      <td>NaN</td>\n",
       "      <td>NaN</td>\n",
       "      <td>NaN</td>\n",
       "      <td>NaN</td>\n",
       "    </tr>\n",
       "    <tr>\n",
       "      <th>3</th>\n",
       "      <td>1227848</td>\n",
       "      <td>56204</td>\n",
       "      <td>1269</td>\n",
       "      <td>121</td>\n",
       "      <td>3</td>\n",
       "      <td>2006</td>\n",
       "      <td>8940.0</td>\n",
       "      <td>High</td>\n",
       "      <td>5/10/2012 0:00</td>\n",
       "      <td>330CL</td>\n",
       "      <td>...</td>\n",
       "      <td>None or Unspecified</td>\n",
       "      <td>None or Unspecified</td>\n",
       "      <td>Manual</td>\n",
       "      <td>Yes</td>\n",
       "      <td>Triple</td>\n",
       "      <td>NaN</td>\n",
       "      <td>NaN</td>\n",
       "      <td>NaN</td>\n",
       "      <td>NaN</td>\n",
       "      <td>NaN</td>\n",
       "    </tr>\n",
       "    <tr>\n",
       "      <th>4</th>\n",
       "      <td>1227863</td>\n",
       "      <td>1053887</td>\n",
       "      <td>22312</td>\n",
       "      <td>121</td>\n",
       "      <td>3</td>\n",
       "      <td>2005</td>\n",
       "      <td>2286.0</td>\n",
       "      <td>Low</td>\n",
       "      <td>5/10/2012 0:00</td>\n",
       "      <td>650K</td>\n",
       "      <td>...</td>\n",
       "      <td>NaN</td>\n",
       "      <td>NaN</td>\n",
       "      <td>NaN</td>\n",
       "      <td>NaN</td>\n",
       "      <td>NaN</td>\n",
       "      <td>None or Unspecified</td>\n",
       "      <td>PAT</td>\n",
       "      <td>None or Unspecified</td>\n",
       "      <td>NaN</td>\n",
       "      <td>NaN</td>\n",
       "    </tr>\n",
       "  </tbody>\n",
       "</table>\n",
       "<p>5 rows × 52 columns</p>\n",
       "</div>"
      ],
      "text/plain": [
       "   SalesID  MachineID  ModelID  datasource  auctioneerID  YearMade  \\\n",
       "0  1227829    1006309     3168         121             3      1999   \n",
       "1  1227844    1022817     7271         121             3      1000   \n",
       "2  1227847    1031560    22805         121             3      2004   \n",
       "3  1227848      56204     1269         121             3      2006   \n",
       "4  1227863    1053887    22312         121             3      2005   \n",
       "\n",
       "   MachineHoursCurrentMeter UsageBand        saledate fiModelDesc  ...  \\\n",
       "0                    3688.0       Low   5/3/2012 0:00        580G  ...   \n",
       "1                   28555.0      High  5/10/2012 0:00         936  ...   \n",
       "2                    6038.0    Medium  5/10/2012 0:00    EC210BLC  ...   \n",
       "3                    8940.0      High  5/10/2012 0:00       330CL  ...   \n",
       "4                    2286.0       Low  5/10/2012 0:00        650K  ...   \n",
       "\n",
       "  Undercarriage_Pad_Width         Stick_Length   Thumb      Pattern_Changer  \\\n",
       "0                     NaN                  NaN     NaN                  NaN   \n",
       "1                     NaN                  NaN     NaN                  NaN   \n",
       "2     None or Unspecified                9' 6\"  Manual  None or Unspecified   \n",
       "3     None or Unspecified  None or Unspecified  Manual                  Yes   \n",
       "4                     NaN                  NaN     NaN                  NaN   \n",
       "\n",
       "  Grouser_Type     Backhoe_Mounting Blade_Type      Travel_Controls  \\\n",
       "0          NaN                  NaN        NaN                  NaN   \n",
       "1          NaN                  NaN        NaN                  NaN   \n",
       "2       Double                  NaN        NaN                  NaN   \n",
       "3       Triple                  NaN        NaN                  NaN   \n",
       "4          NaN  None or Unspecified        PAT  None or Unspecified   \n",
       "\n",
       "  Differential_Type Steering_Controls  \n",
       "0               NaN               NaN  \n",
       "1          Standard      Conventional  \n",
       "2               NaN               NaN  \n",
       "3               NaN               NaN  \n",
       "4               NaN               NaN  \n",
       "\n",
       "[5 rows x 52 columns]"
      ]
     },
     "execution_count": 60,
     "metadata": {},
     "output_type": "execute_result"
    }
   ],
   "source": [
    "test_filepath = '/kaggle/input/bluebook-for-bulldozers/Test.csv'\n",
    "test_df = pd.read_csv(test_filepath)\n",
    "test_df.head()"
   ]
  },
  {
   "cell_type": "markdown",
   "id": "44637072",
   "metadata": {
    "id": "onCpANTw7HkL",
    "papermill": {
     "duration": 0.04745,
     "end_time": "2024-04-05T09:50:13.415768",
     "exception": false,
     "start_time": "2024-04-05T09:50:13.368318",
     "status": "completed"
    },
    "tags": []
   },
   "source": [
    "### Preprocessing the data (getting the test dataset in the same format as out training dataset)"
   ]
  },
  {
   "cell_type": "code",
   "execution_count": 61,
   "id": "cf448bab",
   "metadata": {
    "execution": {
     "iopub.execute_input": "2024-04-05T09:50:13.515798Z",
     "iopub.status.busy": "2024-04-05T09:50:13.515316Z",
     "iopub.status.idle": "2024-04-05T09:50:13.529255Z",
     "shell.execute_reply": "2024-04-05T09:50:13.527878Z"
    },
    "id": "6nCXB7gFC1RD",
    "papermill": {
     "duration": 0.068625,
     "end_time": "2024-04-05T09:50:13.532113",
     "exception": false,
     "start_time": "2024-04-05T09:50:13.463488",
     "status": "completed"
    },
    "tags": []
   },
   "outputs": [],
   "source": [
    "np.random.seed(42)\n",
    "\n",
    "def preprocess_df(df_temp):\n",
    "  df_temp['YearMade'].replace(1000, 1995, inplace=True)\n",
    "\n",
    "  df_temp['saledate'] = pd.to_datetime(df_temp['saledate'])\n",
    "\n",
    "  df_temp['saleYear'] = df_temp['saledate'].dt.year\n",
    "  df_temp['saleMonth'] = df_temp['saledate'].dt.month\n",
    "  df_temp['saleDay'] = df_temp['saledate'].dt.day\n",
    "  df_temp[\"saleDayOfWeek\"] = df_temp.saledate.dt.dayofweek\n",
    "  df_temp[\"saleDayOfYear\"] = df_temp.saledate.dt.dayofyear\n",
    "\n",
    "  df_temp.drop('saledate', axis=1, inplace=True)\n",
    "\n",
    "  for col in df_temp.columns:\n",
    "    if pd.api.types.is_numeric_dtype(df_temp[col]):\n",
    "      if df_temp[col].isna().sum():\n",
    "        # add a column which tell if data is missing or not\n",
    "        df_temp[col+'_is_missing'] = df_temp[col].isna()\n",
    "        df_temp[col].fillna(df_temp[col].median(), inplace=True)\n",
    "\n",
    "  for col in df_temp.columns:\n",
    "    if pd.api.types.is_object_dtype(df_temp[col]):\n",
    "      df_temp[col] = df_temp[col].astype('category')\n",
    "\n",
    "  for col in df_temp.columns:\n",
    "    if pd.api.types.is_categorical_dtype(df_temp[col]):\n",
    "      df_temp[col+'_is_missing'] = df_temp[col].isna()\n",
    "      df_temp[col] = df_temp[col].cat.codes+1\n",
    "\n",
    "  return df_temp"
   ]
  },
  {
   "cell_type": "code",
   "execution_count": 62,
   "id": "c599e02c",
   "metadata": {
    "execution": {
     "iopub.execute_input": "2024-04-05T09:50:13.629482Z",
     "iopub.status.busy": "2024-04-05T09:50:13.628962Z",
     "iopub.status.idle": "2024-04-05T09:50:13.639482Z",
     "shell.execute_reply": "2024-04-05T09:50:13.638151Z"
    },
    "id": "uNe5kLrZ8vEe",
    "papermill": {
     "duration": 0.062581,
     "end_time": "2024-04-05T09:50:13.642326",
     "exception": false,
     "start_time": "2024-04-05T09:50:13.579745",
     "status": "completed"
    },
    "tags": []
   },
   "outputs": [],
   "source": [
    "test_temp_df = test_df.copy()"
   ]
  },
  {
   "cell_type": "markdown",
   "id": "b632c9f0",
   "metadata": {
    "id": "MafDEjY3qKDR",
    "papermill": {
     "duration": 0.046808,
     "end_time": "2024-04-05T09:50:13.736649",
     "exception": false,
     "start_time": "2024-04-05T09:50:13.689841",
     "status": "completed"
    },
    "tags": []
   },
   "source": [
    "#### Apply preprocess function on test data"
   ]
  },
  {
   "cell_type": "code",
   "execution_count": 63,
   "id": "20fdeef8",
   "metadata": {
    "execution": {
     "iopub.execute_input": "2024-04-05T09:50:13.833318Z",
     "iopub.status.busy": "2024-04-05T09:50:13.832792Z",
     "iopub.status.idle": "2024-04-05T09:50:14.006419Z",
     "shell.execute_reply": "2024-04-05T09:50:14.005237Z"
    },
    "id": "_d5yr-RlEmS-",
    "papermill": {
     "duration": 0.225962,
     "end_time": "2024-04-05T09:50:14.009766",
     "exception": false,
     "start_time": "2024-04-05T09:50:13.783804",
     "status": "completed"
    },
    "tags": []
   },
   "outputs": [],
   "source": [
    "test_temp_df = preprocess_df(test_temp_df)"
   ]
  },
  {
   "cell_type": "markdown",
   "id": "d1650bff",
   "metadata": {
    "id": "3EVE5DjnqR5h",
    "papermill": {
     "duration": 0.047368,
     "end_time": "2024-04-05T09:50:14.105683",
     "exception": false,
     "start_time": "2024-04-05T09:50:14.058315",
     "status": "completed"
    },
    "tags": []
   },
   "source": [
    "Add `auctioneerID_is_missing` to test data because it is missing from it"
   ]
  },
  {
   "cell_type": "code",
   "execution_count": 64,
   "id": "f6e3252f",
   "metadata": {
    "execution": {
     "iopub.execute_input": "2024-04-05T09:50:14.203684Z",
     "iopub.status.busy": "2024-04-05T09:50:14.203212Z",
     "iopub.status.idle": "2024-04-05T09:50:14.209911Z",
     "shell.execute_reply": "2024-04-05T09:50:14.208395Z"
    },
    "id": "h4F06j9-2-i5",
    "papermill": {
     "duration": 0.058798,
     "end_time": "2024-04-05T09:50:14.212740",
     "exception": false,
     "start_time": "2024-04-05T09:50:14.153942",
     "status": "completed"
    },
    "tags": []
   },
   "outputs": [],
   "source": [
    "test_temp_df['auctioneerID_is_missing'] = False"
   ]
  },
  {
   "cell_type": "markdown",
   "id": "54bf5cf7",
   "metadata": {
    "id": "9Yni86jtqcUJ",
    "papermill": {
     "duration": 0.047228,
     "end_time": "2024-04-05T09:50:14.307906",
     "exception": false,
     "start_time": "2024-04-05T09:50:14.260678",
     "status": "completed"
    },
    "tags": []
   },
   "source": [
    "#### Make columns of test and train in same order"
   ]
  },
  {
   "cell_type": "code",
   "execution_count": 65,
   "id": "f87bc904",
   "metadata": {
    "execution": {
     "iopub.execute_input": "2024-04-05T09:50:14.407629Z",
     "iopub.status.busy": "2024-04-05T09:50:14.407164Z",
     "iopub.status.idle": "2024-04-05T09:50:14.422008Z",
     "shell.execute_reply": "2024-04-05T09:50:14.420815Z"
    },
    "id": "Dg-zk3Mn4U8q",
    "papermill": {
     "duration": 0.067342,
     "end_time": "2024-04-05T09:50:14.425268",
     "exception": false,
     "start_time": "2024-04-05T09:50:14.357926",
     "status": "completed"
    },
    "tags": []
   },
   "outputs": [],
   "source": [
    "test_temp_df = test_temp_df.reindex(X_train.columns, axis=1)"
   ]
  },
  {
   "cell_type": "code",
   "execution_count": 66,
   "id": "55cde924",
   "metadata": {
    "execution": {
     "iopub.execute_input": "2024-04-05T09:50:14.525436Z",
     "iopub.status.busy": "2024-04-05T09:50:14.524385Z",
     "iopub.status.idle": "2024-04-05T09:50:14.530944Z",
     "shell.execute_reply": "2024-04-05T09:50:14.529654Z"
    },
    "id": "JG2xyn-oHJ2z",
    "papermill": {
     "duration": 0.06004,
     "end_time": "2024-04-05T09:50:14.533623",
     "exception": false,
     "start_time": "2024-04-05T09:50:14.473583",
     "status": "completed"
    },
    "tags": []
   },
   "outputs": [],
   "source": [
    "assert test_temp_df.columns.tolist() == X_train.columns.tolist(), \"Columns are not the same\""
   ]
  },
  {
   "cell_type": "markdown",
   "id": "c12babba",
   "metadata": {
    "id": "jrMZIimhqhp8",
    "papermill": {
     "duration": 0.047131,
     "end_time": "2024-04-05T09:50:14.628504",
     "exception": false,
     "start_time": "2024-04-05T09:50:14.581373",
     "status": "completed"
    },
    "tags": []
   },
   "source": [
    "### Predict on test data"
   ]
  },
  {
   "cell_type": "code",
   "execution_count": 67,
   "id": "b6a96216",
   "metadata": {
    "execution": {
     "iopub.execute_input": "2024-04-05T09:50:14.726492Z",
     "iopub.status.busy": "2024-04-05T09:50:14.725989Z",
     "iopub.status.idle": "2024-04-05T09:50:14.821623Z",
     "shell.execute_reply": "2024-04-05T09:50:14.820186Z"
    },
    "id": "fvYj2PI6FrTl",
    "papermill": {
     "duration": 0.149951,
     "end_time": "2024-04-05T09:50:14.825764",
     "exception": false,
     "start_time": "2024-04-05T09:50:14.675813",
     "status": "completed"
    },
    "tags": []
   },
   "outputs": [],
   "source": [
    "test_preds = rfr_ideal_model.predict(test_temp_df)"
   ]
  },
  {
   "cell_type": "markdown",
   "id": "9c6e26ac",
   "metadata": {
    "id": "yprnASyuHdGV",
    "papermill": {
     "duration": 0.047139,
     "end_time": "2024-04-05T09:50:14.922021",
     "exception": false,
     "start_time": "2024-04-05T09:50:14.874882",
     "status": "completed"
    },
    "tags": []
   },
   "source": [
    "Create a dataframe to store test_preds"
   ]
  },
  {
   "cell_type": "code",
   "execution_count": 68,
   "id": "2c57442d",
   "metadata": {
    "execution": {
     "iopub.execute_input": "2024-04-05T09:50:15.020699Z",
     "iopub.status.busy": "2024-04-05T09:50:15.019410Z",
     "iopub.status.idle": "2024-04-05T09:50:15.036584Z",
     "shell.execute_reply": "2024-04-05T09:50:15.035219Z"
    },
    "id": "i7ft_zvLHhoq",
    "outputId": "f76b5a35-6d94-4fd0-f4bf-950e7a70a2c4",
    "papermill": {
     "duration": 0.068996,
     "end_time": "2024-04-05T09:50:15.039220",
     "exception": false,
     "start_time": "2024-04-05T09:50:14.970224",
     "status": "completed"
    },
    "tags": []
   },
   "outputs": [
    {
     "data": {
      "text/html": [
       "<div>\n",
       "<style scoped>\n",
       "    .dataframe tbody tr th:only-of-type {\n",
       "        vertical-align: middle;\n",
       "    }\n",
       "\n",
       "    .dataframe tbody tr th {\n",
       "        vertical-align: top;\n",
       "    }\n",
       "\n",
       "    .dataframe thead th {\n",
       "        text-align: right;\n",
       "    }\n",
       "</style>\n",
       "<table border=\"1\" class=\"dataframe\">\n",
       "  <thead>\n",
       "    <tr style=\"text-align: right;\">\n",
       "      <th></th>\n",
       "      <th>SalesID</th>\n",
       "      <th>SalePrice</th>\n",
       "    </tr>\n",
       "  </thead>\n",
       "  <tbody>\n",
       "    <tr>\n",
       "      <th>0</th>\n",
       "      <td>1227829</td>\n",
       "      <td>18530.194071</td>\n",
       "    </tr>\n",
       "    <tr>\n",
       "      <th>1</th>\n",
       "      <td>1227844</td>\n",
       "      <td>22095.576680</td>\n",
       "    </tr>\n",
       "    <tr>\n",
       "      <th>2</th>\n",
       "      <td>1227847</td>\n",
       "      <td>53250.164876</td>\n",
       "    </tr>\n",
       "    <tr>\n",
       "      <th>3</th>\n",
       "      <td>1227848</td>\n",
       "      <td>72743.496256</td>\n",
       "    </tr>\n",
       "    <tr>\n",
       "      <th>4</th>\n",
       "      <td>1227863</td>\n",
       "      <td>57474.745573</td>\n",
       "    </tr>\n",
       "    <tr>\n",
       "      <th>...</th>\n",
       "      <td>...</td>\n",
       "      <td>...</td>\n",
       "    </tr>\n",
       "    <tr>\n",
       "      <th>12452</th>\n",
       "      <td>6643171</td>\n",
       "      <td>38597.521681</td>\n",
       "    </tr>\n",
       "    <tr>\n",
       "      <th>12453</th>\n",
       "      <td>6643173</td>\n",
       "      <td>11669.379931</td>\n",
       "    </tr>\n",
       "    <tr>\n",
       "      <th>12454</th>\n",
       "      <td>6643184</td>\n",
       "      <td>12918.384443</td>\n",
       "    </tr>\n",
       "    <tr>\n",
       "      <th>12455</th>\n",
       "      <td>6643186</td>\n",
       "      <td>15663.943467</td>\n",
       "    </tr>\n",
       "    <tr>\n",
       "      <th>12456</th>\n",
       "      <td>6643196</td>\n",
       "      <td>26718.730820</td>\n",
       "    </tr>\n",
       "  </tbody>\n",
       "</table>\n",
       "<p>12457 rows × 2 columns</p>\n",
       "</div>"
      ],
      "text/plain": [
       "       SalesID     SalePrice\n",
       "0      1227829  18530.194071\n",
       "1      1227844  22095.576680\n",
       "2      1227847  53250.164876\n",
       "3      1227848  72743.496256\n",
       "4      1227863  57474.745573\n",
       "...        ...           ...\n",
       "12452  6643171  38597.521681\n",
       "12453  6643173  11669.379931\n",
       "12454  6643184  12918.384443\n",
       "12455  6643186  15663.943467\n",
       "12456  6643196  26718.730820\n",
       "\n",
       "[12457 rows x 2 columns]"
      ]
     },
     "execution_count": 68,
     "metadata": {},
     "output_type": "execute_result"
    }
   ],
   "source": [
    "df_preds = pd.DataFrame()\n",
    "df_preds['SalesID'] = test_df['SalesID']\n",
    "df_preds['SalePrice'] = test_preds\n",
    "df_preds"
   ]
  },
  {
   "cell_type": "markdown",
   "id": "2098decc",
   "metadata": {
    "id": "sC8Mg4D6qnDZ",
    "papermill": {
     "duration": 0.047128,
     "end_time": "2024-04-05T09:50:15.134532",
     "exception": false,
     "start_time": "2024-04-05T09:50:15.087404",
     "status": "completed"
    },
    "tags": []
   },
   "source": [
    "## Conclusion\n",
    "\n",
    "- There is some of sort of doubt for `YearMade` column where values are equal to 1000. By contacting subject matter expert help to understand more\n",
    "\n",
    "- `RandomForestRegressor()` works far better than `Ridge()`, `Lasso()`, `ElasticNet()`\n",
    "- By applying RandomizedSearchCV and GridSearchCV we get our best parameters for our RandomForestRegressor model.\n",
    "```\n",
    "    n_estimators=50,\n",
    "    min_samples_leaf=1,\n",
    "    min_samples_split=12,\n",
    "    max_features=0.5\n",
    "    \n",
    "  ```\n",
    "- Our model's evaluation score:\n",
    "  - R2_Score => 0.882327\n",
    "  - MSLE => 0.060891\n",
    "  - RMSLE => 0.246760\n",
    "  - MAE => 5955.706156\n",
    "\n",
    "- **Root mean squared log error is 0.2468**\n",
    "\n"
   ]
  },
  {
   "cell_type": "markdown",
   "id": "13b6456c",
   "metadata": {
    "papermill": {
     "duration": 0.046914,
     "end_time": "2024-04-05T09:50:15.229062",
     "exception": false,
     "start_time": "2024-04-05T09:50:15.182148",
     "status": "completed"
    },
    "tags": []
   },
   "source": [
    "THE END"
   ]
  }
 ],
 "metadata": {
  "colab": {
   "collapsed_sections": [
    "BNe7tqODQanh",
    "Seo5HVTLjOQ3",
    "J77OjrdvjOA4"
   ],
   "provenance": [],
   "toc_visible": true
  },
  "kaggle": {
   "accelerator": "none",
   "dataSources": [
    {
     "databundleVersionId": 31070,
     "sourceId": 3316,
     "sourceType": "competition"
    }
   ],
   "dockerImageVersionId": 30673,
   "isGpuEnabled": false,
   "isInternetEnabled": true,
   "language": "python",
   "sourceType": "notebook"
  },
  "kernelspec": {
   "display_name": "Python 3",
   "language": "python",
   "name": "python3"
  },
  "language_info": {
   "codemirror_mode": {
    "name": "ipython",
    "version": 3
   },
   "file_extension": ".py",
   "mimetype": "text/x-python",
   "name": "python",
   "nbconvert_exporter": "python",
   "pygments_lexer": "ipython3",
   "version": "3.10.13"
  },
  "papermill": {
   "default_parameters": {},
   "duration": 893.792795,
   "end_time": "2024-04-05T09:50:16.405853",
   "environment_variables": {},
   "exception": null,
   "input_path": "__notebook__.ipynb",
   "output_path": "__notebook__.ipynb",
   "parameters": {},
   "start_time": "2024-04-05T09:35:22.613058",
   "version": "2.5.0"
  }
 },
 "nbformat": 4,
 "nbformat_minor": 5
}
